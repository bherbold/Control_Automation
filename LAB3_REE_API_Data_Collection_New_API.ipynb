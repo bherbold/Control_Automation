{
 "cells": [
  {
   "cell_type": "markdown",
   "metadata": {},
   "source": [
    "# Part I : Data Collection - REE API"
   ]
  },
  {
   "cell_type": "markdown",
   "metadata": {},
   "source": [
    "The objective of this session is to understand how data can be retrieved from specific sources as REE API.\n",
    "\n",
    "To do so, we will use `requests` library and `json` libraries for Python. These libraries are very famous and common python libraries to deal with http request and json file serialization.\n",
    "\n",
    "Later on, we will use specific libraries for plotting as `matplotlib` and `datetime`."
   ]
  },
  {
   "cell_type": "code",
   "execution_count": 1,
   "metadata": {},
   "outputs": [],
   "source": [
    "# import requests library\n",
    "import requests \n",
    "import json\n",
    "# import plotting library\n",
    "import matplotlib\n",
    "import matplotlib.pyplot as plt \n",
    "from datetime import date, datetime, timedelta\n"
   ]
  },
  {
   "cell_type": "markdown",
   "metadata": {},
   "source": [
    "### Create the request"
   ]
  },
  {
   "cell_type": "markdown",
   "metadata": {},
   "source": [
    "As we have seen before, when we work with APIs, we have to know and hold the URL of the exposed **endpoint** of the server where the information we want is stored. We have to start writing the whole http request to be made. Following concepts explained in class, this will include: an http method, the desired endpoint, headers and parameters.\n",
    "Reading the available API documentation (mandatory) available here https://www.ree.es/es/apidatos you can understand that only GET request can be done.\n",
    "\n",
    "Let's therefore write in our script the desired headers/parameters.\n",
    "We need to write also the folder/section we want to access. Note that we can have the same endpoint but different sections from where to get the information. \n",
    "\n",
    "Most of the times, we need to add some headers to our requests that are required to get the information. The most important one is the **Authorization**, which corresponds to our ID to access that API. \n",
    "\n",
    "The following code is created only to facilitate the process of the API request generation. Endpoints, archives and headers are always provided in the API documentation, which have to be read."
   ]
  },
  {
   "cell_type": "code",
   "execution_count": 2,
   "metadata": {},
   "outputs": [],
   "source": [
    "endpoint = 'https://apidatos.ree.es'\n",
    "get_archives = '/en/datos/mercados/precios-mercados-tiempo-real'\n",
    "headers = {'Accept': 'application/json',\n",
    "           'Content-Type': 'application/json',\n",
    "           'Host': 'apidatos.ree.es'}\n",
    "params = {'start_date': '2019-10-14T00:00', 'end_date': '2019-10-16T23:00', 'time_trunc':'hour'}"
   ]
  },
  {
   "cell_type": "markdown",
   "metadata": {},
   "source": [
    "We are now looking at data regarding the **precios-mercados-tiempo-real** (look at the request archive above). We will find out what this archives contains once we have transferred the data.\n"
   ]
  },
  {
   "cell_type": "markdown",
   "metadata": {},
   "source": [
    "We can write now the request according to the `requests` library and its `get` method. That is how you create a GET HTTP method with this library, which is very intuitive and easy to use."
   ]
  },
  {
   "cell_type": "code",
   "execution_count": 3,
   "metadata": {},
   "outputs": [],
   "source": [
    "response = requests.get(endpoint+get_archives, headers=headers, params=params)"
   ]
  },
  {
   "cell_type": "markdown",
   "metadata": {},
   "source": [
    "After that, we can check if the request is correct or not according to the response we get from the API. "
   ]
  },
  {
   "cell_type": "code",
   "execution_count": 4,
   "metadata": {
    "scrolled": false
   },
   "outputs": [
    {
     "data": {
      "text/plain": [
       "<Response [200]>"
      ]
     },
     "execution_count": 4,
     "metadata": {},
     "output_type": "execute_result"
    }
   ],
   "source": [
    "response"
   ]
  },
  {
   "cell_type": "markdown",
   "metadata": {},
   "source": [
    "In this case, the response we get is **200**, meaning that is has been accepted and the connection is established. \n",
    "There are different codes that tell us which is our connection status between us and the API. Please, have a look yourself at the possible outcomes of http request. "
   ]
  },
  {
   "cell_type": "code",
   "execution_count": 5,
   "metadata": {
    "scrolled": true
   },
   "outputs": [
    {
     "name": "stdout",
     "output_type": "stream",
     "text": [
      "Connection is established\n"
     ]
    }
   ],
   "source": [
    "status = response.status_code\n",
    "\n",
    "#Check the status code\n",
    "if status < 200:\n",
    "    print('informational')\n",
    "    # If the status code is 200, treat the information.\n",
    "elif status >= 200 and status < 300:\n",
    "    print('Connection is established')\n",
    "    #okBehavior(response) # runs the function to get list of archives\n",
    "elif status >= 300 and status < 400:\n",
    "    print('redirection')\n",
    "elif status >= 400 and status < 500:\n",
    "    print('client error')\n",
    "else:\n",
    "    print('server error')"
   ]
  },
  {
   "cell_type": "markdown",
   "metadata": {},
   "source": [
    "### Access the data"
   ]
  },
  {
   "cell_type": "markdown",
   "metadata": {},
   "source": [
    "The data can be accessed by means of a json file. By calling the `json` method, we can access and store the transferred data. Have a look at all the IDs available for us to obtain data. "
   ]
  },
  {
   "cell_type": "code",
   "execution_count": 6,
   "metadata": {},
   "outputs": [],
   "source": [
    "# accessing data by means of a json object\n",
    "json = response.json()"
   ]
  },
  {
   "cell_type": "code",
   "execution_count": 7,
   "metadata": {
    "scrolled": false
   },
   "outputs": [],
   "source": [
    "#json"
   ]
  },
  {
   "cell_type": "markdown",
   "metadata": {},
   "source": [
    "For a better visualization of the json content, you can use this tool (https://jsonformatter.curiousconcept.com). This helps in understanding the structure of the json file and access the desired data.\n",
    "You can find out using the suggested tool that the response to the request contain the desired substructures.\n",
    "\n",
    "The **data** struct contains details about your request.\n",
    "The **included** struct contains the actual data. It contains an additional substructure (\"Precio mercado spot\" or \"Spot market price\"). \n",
    "Let's try to extract the **Spot market price** (€/MWh). The spot market price can be also called the \"Day-Ahead Market\" price (DAM) which is contracted the same day for the next one. Prices are defined for each hour.\n",
    "\n",
    "\n",
    "To access the actual values it is needed to access some more substructures (\"attributes\" and \"values\")"
   ]
  },
  {
   "cell_type": "code",
   "execution_count": 8,
   "metadata": {
    "scrolled": false
   },
   "outputs": [],
   "source": [
    "spot_market_prices = json['included'][0]\n",
    "values = spot_market_prices['attributes']['values']\n"
   ]
  },
  {
   "cell_type": "code",
   "execution_count": 9,
   "metadata": {},
   "outputs": [],
   "source": [
    "#values"
   ]
  },
  {
   "cell_type": "markdown",
   "metadata": {},
   "source": [
    "### Store the data locally"
   ]
  },
  {
   "cell_type": "markdown",
   "metadata": {},
   "source": [
    "Create local structure in your python environment and fill them with data"
   ]
  },
  {
   "cell_type": "code",
   "execution_count": 10,
   "metadata": {},
   "outputs": [],
   "source": [
    "prices = []\n",
    "hours = []"
   ]
  },
  {
   "cell_type": "code",
   "execution_count": 11,
   "metadata": {},
   "outputs": [],
   "source": [
    "for time_period in values:\n",
    "    #print(time_period['value'])\n",
    "    prices.append(time_period['value'])\n",
    "    hours.append(time_period['datetime'])\n",
    "    #print(f\"Price at {time_period['datetime']} is {time_period['value']} €/MWh\")"
   ]
  },
  {
   "cell_type": "markdown",
   "metadata": {},
   "source": [
    "Now that is what we have"
   ]
  },
  {
   "cell_type": "code",
   "execution_count": 12,
   "metadata": {},
   "outputs": [],
   "source": [
    "#prices"
   ]
  },
  {
   "cell_type": "code",
   "execution_count": 13,
   "metadata": {},
   "outputs": [
    {
     "data": {
      "text/plain": [
       "35.55"
      ]
     },
     "execution_count": 13,
     "metadata": {},
     "output_type": "execute_result"
    }
   ],
   "source": [
    "prices[1]"
   ]
  },
  {
   "cell_type": "markdown",
   "metadata": {},
   "source": [
    "### Plot the spot market price - DAM price"
   ]
  },
  {
   "cell_type": "code",
   "execution_count": 14,
   "metadata": {
    "scrolled": false
   },
   "outputs": [
    {
     "data": {
      "image/png": "[encoded data removed]",
      "text/plain": [
       "<Figure size 1440x720 with 1 Axes>"
      ]
     },
     "metadata": {},
     "output_type": "display_data"
    }
   ],
   "source": [
    "matplotlib.rc('xtick', labelsize=15)     \n",
    "matplotlib.rc('ytick', labelsize=15)\n",
    "\n",
    "plt.style.use('ggplot')\n",
    "plt.figure(figsize=(20,10))\n",
    "plt.plot(prices,'r', linewidth=1.5, marker='.')\n",
    "plt.title(f\"Spot market prices\", fontsize=20)\n",
    "plt.xlabel('Hour', fontsize=20 )\n",
    "plt.ylabel('Price [€/MWh]', fontsize=20)\n",
    "plt.show()"
   ]
  },
  {
   "cell_type": "markdown",
   "metadata": {},
   "source": [
    "### Changing Dates"
   ]
  },
  {
   "cell_type": "markdown",
   "metadata": {},
   "source": [
    "We could try to change the dates and ask for more recent prices. Let's make a new request, changing the desired parameters:"
   ]
  },
  {
   "cell_type": "code",
   "execution_count": 15,
   "metadata": {},
   "outputs": [],
   "source": [
    "params = {'start_date': '2022-10-14T00:00', 'end_date': '2022-10-14T23:00', 'time_trunc':'hour'}"
   ]
  },
  {
   "cell_type": "code",
   "execution_count": 16,
   "metadata": {},
   "outputs": [],
   "source": [
    "response = requests.get(endpoint+get_archives, headers=headers, params=params)"
   ]
  },
  {
   "cell_type": "code",
   "execution_count": 17,
   "metadata": {},
   "outputs": [
    {
     "data": {
      "text/plain": [
       "<Response [200]>"
      ]
     },
     "execution_count": 17,
     "metadata": {},
     "output_type": "execute_result"
    }
   ],
   "source": [
    "response"
   ]
  },
  {
   "cell_type": "markdown",
   "metadata": {},
   "source": [
    "Let's repeat the process of extracting the data in a new structure (without plotting for brevity)"
   ]
  },
  {
   "cell_type": "code",
   "execution_count": 18,
   "metadata": {},
   "outputs": [],
   "source": [
    "json_new = response.json()"
   ]
  },
  {
   "cell_type": "code",
   "execution_count": 19,
   "metadata": {},
   "outputs": [],
   "source": [
    "spot_market_prices_new = json_new['included'][0]\n",
    "values_new = spot_market_prices_new['attributes']['values']"
   ]
  },
  {
   "cell_type": "code",
   "execution_count": 20,
   "metadata": {},
   "outputs": [],
   "source": [
    "prices_new = []\n",
    "hours_new = []\n",
    "for time_period in values_new:\n",
    "    prices_new.append(time_period['value'])\n",
    "    hours.append(time_period['datetime'])"
   ]
  },
  {
   "cell_type": "markdown",
   "metadata": {},
   "source": [
    "Let's plot and compare the new data"
   ]
  },
  {
   "cell_type": "code",
   "execution_count": 21,
   "metadata": {},
   "outputs": [
    {
     "data": {
      "image/png": "[encoded data removed]",
      "text/plain": [
       "<Figure size 1440x720 with 1 Axes>"
      ]
     },
     "metadata": {},
     "output_type": "display_data"
    }
   ],
   "source": [
    "plt.style.use('ggplot')\n",
    "plt.figure(figsize=(20,10))\n",
    "plt.plot(prices_new, 'r', linewidth=1.5, marker='.')\n",
    "plt.title(f\"Spot market prices\", fontsize=20)\n",
    "plt.xlabel('Hour', fontsize=20 )\n",
    "plt.ylabel('Price [€/MWh]', fontsize=20)\n",
    "plt.show()"
   ]
  },
  {
   "cell_type": "markdown",
   "metadata": {},
   "source": [
    "Now you understand why recently people are going crazy to pay their bills! :) "
   ]
  },
  {
   "cell_type": "markdown",
   "metadata": {},
   "source": [
    "Let's look for the most updated price signals.\n",
    "We need to use teh python `datetime` library for this. The approach is to generate the actual time in UTC time coordinates and add the desired time step for the analysis. Spot market prices are generated today for tomorrow and are available from 12PM when the market closes. If you are running the code after your 12PM you should be able to see DAM prices for tomorrow.\n",
    "\n",
    "Mind that datetime objects have to be transformed into strings, follwing the required format specified in the parameters of the API documentation, otherwise it will not work."
   ]
  },
  {
   "cell_type": "code",
   "execution_count": 22,
   "metadata": {},
   "outputs": [
    {
     "data": {
      "text/plain": [
       "'2022-11-23T09:45'"
      ]
     },
     "execution_count": 22,
     "metadata": {},
     "output_type": "execute_result"
    }
   ],
   "source": [
    "start_date = datetime.utcnow()\n",
    "end_date = start_date + timedelta(hours=24)             # add one day to see prices for tomorrow\n",
    "# transform into strings with a minute resolution\n",
    "end_date = end_date.strftime('%Y-%m-%dT%H:%M')\n",
    "start_date = start_date.strftime('%Y-%m-%dT%H:%M')\n",
    "# check\n",
    "end_date\n"
   ]
  },
  {
   "cell_type": "code",
   "execution_count": 23,
   "metadata": {},
   "outputs": [
    {
     "data": {
      "text/plain": [
       "'2022-11-22T09:45'"
      ]
     },
     "execution_count": 23,
     "metadata": {},
     "output_type": "execute_result"
    }
   ],
   "source": [
    "start_date"
   ]
  },
  {
   "cell_type": "markdown",
   "metadata": {},
   "source": [
    "Update the parameters of the API request with the new structures"
   ]
  },
  {
   "cell_type": "code",
   "execution_count": 24,
   "metadata": {},
   "outputs": [
    {
     "data": {
      "text/plain": [
       "<Response [200]>"
      ]
     },
     "execution_count": 24,
     "metadata": {},
     "output_type": "execute_result"
    }
   ],
   "source": [
    "params = {'start_date': start_date, 'end_date': end_date, 'time_trunc':'hour'}\n",
    "response = requests.get(endpoint+get_archives, headers=headers, params=params)\n",
    "response"
   ]
  },
  {
   "cell_type": "markdown",
   "metadata": {},
   "source": [
    "Extract values just as before"
   ]
  },
  {
   "cell_type": "code",
   "execution_count": 25,
   "metadata": {},
   "outputs": [
    {
     "data": {
      "text/plain": [
       "{'data': {'type': 'Precios mercado peninsular en tiempo real',\n",
       "  'id': 'mer13',\n",
       "  'attributes': {'title': 'Precios mercado peninsular en tiempo real',\n",
       "   'last-update': '2022-11-21T20:17:33.000+01:00',\n",
       "   'description': None},\n",
       "  'meta': {'cache-control': {'cache': 'MISS'}}},\n",
       " 'included': [{'type': 'PVPC (€/MWh)',\n",
       "   'id': '1001',\n",
       "   'groupId': None,\n",
       "   'attributes': {'title': 'PVPC (€/MWh)',\n",
       "    'description': None,\n",
       "    'color': '#ffcf09',\n",
       "    'type': None,\n",
       "    'magnitude': 'price',\n",
       "    'composite': False,\n",
       "    'last-update': '2022-11-21T20:17:33.000+01:00',\n",
       "    'values': [{'value': 183.45,\n",
       "      'percentage': 0.6854100504390062,\n",
       "      'datetime': '2022-11-22T10:00:00.000+01:00'},\n",
       "     {'value': 161.55,\n",
       "      'percentage': 0.7088013338013338,\n",
       "      'datetime': '2022-11-22T11:00:00.000+01:00'},\n",
       "     {'value': 156.41,\n",
       "      'percentage': 0.7138423622837844,\n",
       "      'datetime': '2022-11-22T12:00:00.000+01:00'},\n",
       "     {'value': 153.19,\n",
       "      'percentage': 0.7168795919322383,\n",
       "      'datetime': '2022-11-22T13:00:00.000+01:00'},\n",
       "     {'value': 108.46,\n",
       "      'percentage': 0.6362783057608824,\n",
       "      'datetime': '2022-11-22T14:00:00.000+01:00'},\n",
       "     {'value': 116.05,\n",
       "      'percentage': 0.6361692796842451,\n",
       "      'datetime': '2022-11-22T15:00:00.000+01:00'},\n",
       "     {'value': 132.49,\n",
       "      'percentage': 0.6249528301886793,\n",
       "      'datetime': '2022-11-22T16:00:00.000+01:00'},\n",
       "     {'value': 153.64,\n",
       "      'percentage': 0.6081380620645979,\n",
       "      'datetime': '2022-11-22T17:00:00.000+01:00'},\n",
       "     {'value': 202.33,\n",
       "      'percentage': 0.6622262952901515,\n",
       "      'datetime': '2022-11-22T18:00:00.000+01:00'},\n",
       "     {'value': 208.09,\n",
       "      'percentage': 0.6583251605555379,\n",
       "      'datetime': '2022-11-22T19:00:00.000+01:00'},\n",
       "     {'value': 209.29,\n",
       "      'percentage': 0.6604708406967937,\n",
       "      'datetime': '2022-11-22T20:00:00.000+01:00'},\n",
       "     {'value': 200.88,\n",
       "      'percentage': 0.6676415846849242,\n",
       "      'datetime': '2022-11-22T21:00:00.000+01:00'},\n",
       "     {'value': 130.79,\n",
       "      'percentage': 0.6213892056252376,\n",
       "      'datetime': '2022-11-22T22:00:00.000+01:00'},\n",
       "     {'value': 99.54,\n",
       "      'percentage': 0.6625399361022364,\n",
       "      'datetime': '2022-11-22T23:00:00.000+01:00'}]}},\n",
       "  {'type': 'Spot market price (€/MWh)',\n",
       "   'id': '600',\n",
       "   'groupId': None,\n",
       "   'attributes': {'title': 'Spot market price (€/MWh)',\n",
       "    'description': None,\n",
       "    'color': '#df4a32',\n",
       "    'type': None,\n",
       "    'magnitude': 'price',\n",
       "    'composite': False,\n",
       "    'last-update': '2022-11-21T12:55:00.000+01:00',\n",
       "    'values': [{'value': 84.2,\n",
       "      'percentage': 0.3145899495609939,\n",
       "      'datetime': '2022-11-22T10:00:00.000+01:00'},\n",
       "     {'value': 66.37,\n",
       "      'percentage': 0.2911986661986662,\n",
       "      'datetime': '2022-11-22T11:00:00.000+01:00'},\n",
       "     {'value': 62.7,\n",
       "      'percentage': 0.2861576377162156,\n",
       "      'datetime': '2022-11-22T12:00:00.000+01:00'},\n",
       "     {'value': 60.5,\n",
       "      'percentage': 0.28312040806776173,\n",
       "      'datetime': '2022-11-22T13:00:00.000+01:00'},\n",
       "     {'value': 62,\n",
       "      'percentage': 0.3637216942391177,\n",
       "      'datetime': '2022-11-22T14:00:00.000+01:00'},\n",
       "     {'value': 66.37,\n",
       "      'percentage': 0.36383072031575486,\n",
       "      'datetime': '2022-11-22T15:00:00.000+01:00'},\n",
       "     {'value': 79.51,\n",
       "      'percentage': 0.3750471698113208,\n",
       "      'datetime': '2022-11-22T16:00:00.000+01:00'},\n",
       "     {'value': 99,\n",
       "      'percentage': 0.3918619379354022,\n",
       "      'datetime': '2022-11-22T17:00:00.000+01:00'},\n",
       "     {'value': 103.2,\n",
       "      'percentage': 0.3377737047098484,\n",
       "      'datetime': '2022-11-22T18:00:00.000+01:00'},\n",
       "     {'value': 108,\n",
       "      'percentage': 0.341674839444462,\n",
       "      'datetime': '2022-11-22T19:00:00.000+01:00'},\n",
       "     {'value': 107.59,\n",
       "      'percentage': 0.33952915930320626,\n",
       "      'datetime': '2022-11-22T20:00:00.000+01:00'},\n",
       "     {'value': 100,\n",
       "      'percentage': 0.33235841531507576,\n",
       "      'datetime': '2022-11-22T21:00:00.000+01:00'},\n",
       "     {'value': 79.69,\n",
       "      'percentage': 0.37861079437476247,\n",
       "      'datetime': '2022-11-22T22:00:00.000+01:00'},\n",
       "     {'value': 50.7,\n",
       "      'percentage': 0.33746006389776356,\n",
       "      'datetime': '2022-11-22T23:00:00.000+01:00'}]}}]}"
      ]
     },
     "execution_count": 25,
     "metadata": {},
     "output_type": "execute_result"
    }
   ],
   "source": [
    "data_json = response.json()\n",
    "data_json"
   ]
  },
  {
   "cell_type": "markdown",
   "metadata": {},
   "source": [
    "You might have notice that the structure of the json output has changed now. A new field appeared: **PVPC** (Voluntary price for the small consumer - Precio Voluntario Pequeno Consumidor - €/MWh) which the final cost of energy for the consumer taken into account the intraday market and other factors such as dispatching and adjustment services.\n",
    "\n",
    "This changes do happen a lot in APIs, because as said they have their own software development cycle (ciclically need maintaince) and might be subjected to change. Do always check out the API documentation to keep trace of the changes.\n",
    "API are not perfect tools :) and might contain bugs, missing data, and many more...\n",
    "\n",
    "Let's extract the data we have\n"
   ]
  },
  {
   "cell_type": "code",
   "execution_count": 26,
   "metadata": {},
   "outputs": [
    {
     "name": "stdout",
     "output_type": "stream",
     "text": [
      "Spot market price at 2022-11-22 10:00:00 is 84.2 €/MWh\n"
     ]
    }
   ],
   "source": [
    "spot_price = data_json[\"included\"][1][\"attributes\"][\"values\"][0][\"value\"]\n",
    "time_str = data_json[\"included\"][1][\"attributes\"][\"values\"][0][\"datetime\"]\n",
    "# from string to datetime\n",
    "time = datetime.strptime(time_str[:16], '%Y-%m-%dT%H:%M') \n",
    "print(f\"Spot market price at {time} is {spot_price} €/MWh\")"
   ]
  },
  {
   "cell_type": "code",
   "execution_count": 27,
   "metadata": {},
   "outputs": [
    {
     "name": "stdout",
     "output_type": "stream",
     "text": [
      "Price the final consumer is paying at 2022-11-22 10:00:00 is 183.45 €/MWh\n"
     ]
    }
   ],
   "source": [
    "pvpc = data_json[\"included\"][0][\"attributes\"][\"values\"][0][\"value\"]\n",
    "time_str = data_json[\"included\"][0][\"attributes\"][\"values\"][0][\"datetime\"]\n",
    "# from string to datetime\n",
    "time = datetime.strptime(time_str[:16], '%Y-%m-%dT%H:%M') \n",
    "print(f\"Price the final consumer is paying at {time} is {pvpc} €/MWh\")"
   ]
  },
  {
   "cell_type": "markdown",
   "metadata": {},
   "source": [
    "As you can see there is a big difference between the price settled by the spot market and the price that the final consumer is paying!"
   ]
  },
  {
   "cell_type": "markdown",
   "metadata": {},
   "source": [
    "# Part II: Exercize"
   ]
  },
  {
   "cell_type": "markdown",
   "metadata": {},
   "source": [
    "### Build your own request to the REE API"
   ]
  },
  {
   "cell_type": "markdown",
   "metadata": {},
   "source": [
    "Looking at the REE API documentation available online, you can see the several information available (called \"widget\").\n",
    "Each widget belong to a category. Pick the one of your interest and try to stream the desired data from the REE API.\n",
    "You would need to set proper parameters for each widget.\n",
    "It is important to have a deep look at the API documentation, looking for the type of information that might be of interest for you.\n",
    "\n",
    "Set your own request parameters here below:"
   ]
  },
  {
   "cell_type": "code",
   "execution_count": 28,
   "metadata": {},
   "outputs": [],
   "source": [
    "endpoint = 'https://apidatos.ree.es'\n",
    "get_archives = '/en/datos/generacion/estructura-generacion'\n",
    "headers = {'Accept': 'application/json',\n",
    "           'Content-Type': 'application/json',\n",
    "           'Host': 'apidatos.ree.es'}\n",
    "#params = 'start_date=2022-11-17T00:00&end_date=2022-01-18T23:59&time_trunc=hour'"
   ]
  },
  {
   "cell_type": "markdown",
   "metadata": {},
   "source": [
    "Now you can make your own request"
   ]
  },
  {
   "cell_type": "code",
   "execution_count": 29,
   "metadata": {},
   "outputs": [],
   "source": [
    "params = {'start_date': '2021-11-14T00:00', 'end_date': '2021-11-16T23:00', 'time_trunc':'month'}\n",
    "response = requests.get(endpoint+get_archives, headers=headers, params=params)\n"
   ]
  },
  {
   "cell_type": "markdown",
   "metadata": {},
   "source": [
    "Check the status of your request"
   ]
  },
  {
   "cell_type": "code",
   "execution_count": 30,
   "metadata": {},
   "outputs": [
    {
     "data": {
      "text/plain": [
       "<Response [200]>"
      ]
     },
     "execution_count": 30,
     "metadata": {},
     "output_type": "execute_result"
    }
   ],
   "source": [
    "response"
   ]
  },
  {
   "cell_type": "markdown",
   "metadata": {},
   "source": [
    "Problem with your request? meaning any status different than 200.\n",
    "Check the problem related with your request and try to fix it. Use the following:"
   ]
  },
  {
   "cell_type": "code",
   "execution_count": 31,
   "metadata": {},
   "outputs": [
    {
     "data": {
      "text/plain": [
       "{'data': {'type': 'Generation structure by technology',\n",
       "  'id': 'gen1',\n",
       "  'attributes': {'title': 'Generation structure by technology',\n",
       "   'last-update': '2022-11-10T20:21:12.000+01:00',\n",
       "   'description': None},\n",
       "  'meta': {'cache-control': {'cache': 'HIT',\n",
       "    'expireAt': '2022-12-22T09:44:57'}}},\n",
       " 'included': [{'type': 'Hydro',\n",
       "   'id': '10288',\n",
       "   'groupId': '1',\n",
       "   'attributes': {'title': 'Hydro',\n",
       "    'description': None,\n",
       "    'color': '#0090d1',\n",
       "    'type': 'Renovable',\n",
       "    'magnitude': None,\n",
       "    'composite': False,\n",
       "    'last-update': '2022-11-10T20:21:02.000+01:00',\n",
       "    'values': [{'value': 99052.855,\n",
       "      'percentage': 0.043690485068942665,\n",
       "      'datetime': '2021-11-01T00:00:00.000+01:00'}]}},\n",
       "  {'type': 'Pumped storage',\n",
       "   'id': '1445',\n",
       "   'groupId': '1',\n",
       "   'attributes': {'title': 'Pumped storage',\n",
       "    'description': None,\n",
       "    'color': '#007cf9',\n",
       "    'type': 'No-Renovable',\n",
       "    'magnitude': None,\n",
       "    'composite': False,\n",
       "    'last-update': '2022-01-11T10:26:24.000+01:00',\n",
       "    'values': [{'value': 10420.255,\n",
       "      'percentage': 0.004596192562971306,\n",
       "      'datetime': '2021-11-01T00:00:00.000+01:00'}]}},\n",
       "  {'type': 'Nuclear',\n",
       "   'id': '1446',\n",
       "   'groupId': '1',\n",
       "   'attributes': {'title': 'Nuclear',\n",
       "    'description': None,\n",
       "    'color': '#464394',\n",
       "    'type': 'No-Renovable',\n",
       "    'magnitude': None,\n",
       "    'composite': False,\n",
       "    'last-update': '2022-01-11T10:26:24.000+01:00',\n",
       "    'values': [{'value': 353777.612,\n",
       "      'percentage': 0.15604512837931014,\n",
       "      'datetime': '2021-11-01T00:00:00.000+01:00'}]}},\n",
       "  {'type': 'Coal',\n",
       "   'id': '10289',\n",
       "   'groupId': '1',\n",
       "   'attributes': {'title': 'Coal',\n",
       "    'description': None,\n",
       "    'color': '#993300',\n",
       "    'type': 'No-Renovable',\n",
       "    'magnitude': None,\n",
       "    'composite': False,\n",
       "    'last-update': '2022-11-10T20:21:06.000+01:00',\n",
       "    'values': [{'value': 58275.467,\n",
       "      'percentage': 0.025704291116587813,\n",
       "      'datetime': '2021-11-01T00:00:00.000+01:00'}]}},\n",
       "  {'type': 'Diesel engines',\n",
       "   'id': '10344',\n",
       "   'groupId': '1',\n",
       "   'attributes': {'title': 'Diesel engines',\n",
       "    'description': None,\n",
       "    'color': '#8DA69F',\n",
       "    'type': 'No-Renovable',\n",
       "    'magnitude': None,\n",
       "    'composite': False,\n",
       "    'last-update': '2022-11-10T20:21:06.000+01:00',\n",
       "    'values': [{'value': 21708.936,\n",
       "      'percentage': 0.009575432673501758,\n",
       "      'datetime': '2021-11-01T00:00:00.000+01:00'}]}},\n",
       "  {'type': 'Gas turbine',\n",
       "   'id': '1450',\n",
       "   'groupId': '1',\n",
       "   'attributes': {'title': 'Gas turbine',\n",
       "    'description': None,\n",
       "    'color': '#00ccff',\n",
       "    'type': 'No-Renovable',\n",
       "    'magnitude': None,\n",
       "    'composite': False,\n",
       "    'last-update': '2022-01-11T10:26:25.000+01:00',\n",
       "    'values': [{'value': 2861.847,\n",
       "      'percentage': 0.0012623107493781817,\n",
       "      'datetime': '2021-11-01T00:00:00.000+01:00'}]}},\n",
       "  {'type': 'Steam turbine',\n",
       "   'id': '1451',\n",
       "   'groupId': '1',\n",
       "   'attributes': {'title': 'Steam turbine',\n",
       "    'description': None,\n",
       "    'color': '#AF8E00',\n",
       "    'type': 'No-Renovable',\n",
       "    'magnitude': None,\n",
       "    'composite': False,\n",
       "    'last-update': '2022-01-11T10:26:25.000+01:00',\n",
       "    'values': [{'value': 11915.048,\n",
       "      'percentage': 0.005255519659072272,\n",
       "      'datetime': '2021-11-01T00:00:00.000+01:00'}]}},\n",
       "  {'type': 'Combined cycle',\n",
       "   'id': '1454',\n",
       "   'groupId': '1',\n",
       "   'attributes': {'title': 'Combined cycle',\n",
       "    'description': None,\n",
       "    'color': '#ffcc66',\n",
       "    'type': 'No-Renovable',\n",
       "    'magnitude': None,\n",
       "    'composite': False,\n",
       "    'last-update': '2022-11-10T20:21:07.000+01:00',\n",
       "    'values': [{'value': 521310.424,\n",
       "      'percentage': 0.22994092695315213,\n",
       "      'datetime': '2021-11-01T00:00:00.000+01:00'}]}},\n",
       "  {'type': 'Hydroeolian',\n",
       "   'id': '1455',\n",
       "   'groupId': '1',\n",
       "   'attributes': {'title': 'Hydroeolian',\n",
       "    'description': None,\n",
       "    'color': '#00FFFF',\n",
       "    'type': 'Renovable',\n",
       "    'magnitude': None,\n",
       "    'composite': False,\n",
       "    'last-update': '2022-01-11T10:26:25.000+01:00',\n",
       "    'values': [{'value': 38.87,\n",
       "      'percentage': 1.714487840486578e-05,\n",
       "      'datetime': '2021-11-01T00:00:00.000+01:00'}]}},\n",
       "  {'type': 'Wind',\n",
       "   'id': '10291',\n",
       "   'groupId': '1',\n",
       "   'attributes': {'title': 'Wind',\n",
       "    'description': None,\n",
       "    'color': '#6fb114',\n",
       "    'type': 'Renovable',\n",
       "    'magnitude': None,\n",
       "    'composite': False,\n",
       "    'last-update': '2022-11-10T20:21:08.000+01:00',\n",
       "    'values': [{'value': 710622.648,\n",
       "      'percentage': 0.313443243933721,\n",
       "      'datetime': '2021-11-01T00:00:00.000+01:00'}]}},\n",
       "  {'type': 'Solar photovoltaic',\n",
       "   'id': '1458',\n",
       "   'groupId': '1',\n",
       "   'attributes': {'title': 'Solar photovoltaic',\n",
       "    'description': None,\n",
       "    'color': '#e48500',\n",
       "    'type': 'Renovable',\n",
       "    'magnitude': None,\n",
       "    'composite': False,\n",
       "    'last-update': '2022-11-10T20:21:09.000+01:00',\n",
       "    'values': [{'value': 164638.138,\n",
       "      'percentage': 0.07261900840785984,\n",
       "      'datetime': '2021-11-01T00:00:00.000+01:00'}]}},\n",
       "  {'type': 'Thermal solar',\n",
       "   'id': '1459',\n",
       "   'groupId': '1',\n",
       "   'attributes': {'title': 'Thermal solar',\n",
       "    'description': None,\n",
       "    'color': '#ff0000',\n",
       "    'type': 'Renovable',\n",
       "    'magnitude': None,\n",
       "    'composite': False,\n",
       "    'last-update': '2022-01-11T10:26:30.000+01:00',\n",
       "    'values': [{'value': 25686.656,\n",
       "      'percentage': 0.011329935522192334,\n",
       "      'datetime': '2021-11-01T00:00:00.000+01:00'}]}},\n",
       "  {'type': 'Other renewables',\n",
       "   'id': '10292',\n",
       "   'groupId': '1',\n",
       "   'attributes': {'title': 'Other renewables',\n",
       "    'description': None,\n",
       "    'color': '#9a5cbc',\n",
       "    'type': 'Renovable',\n",
       "    'magnitude': None,\n",
       "    'composite': False,\n",
       "    'last-update': '2022-11-10T20:21:11.000+01:00',\n",
       "    'values': [{'value': 45617.879,\n",
       "      'percentage': 0.02012125002682995,\n",
       "      'datetime': '2021-11-01T00:00:00.000+01:00'}]}},\n",
       "  {'type': 'Cogeneration',\n",
       "   'id': '10293',\n",
       "   'groupId': '1',\n",
       "   'attributes': {'title': 'Cogeneration',\n",
       "    'description': None,\n",
       "    'color': '#cfa2ca',\n",
       "    'type': 'No-Renovable',\n",
       "    'magnitude': None,\n",
       "    'composite': False,\n",
       "    'last-update': '2022-11-10T20:21:12.000+01:00',\n",
       "    'values': [{'value': 215133.394,\n",
       "      'percentage': 0.09489158427980657,\n",
       "      'datetime': '2021-11-01T00:00:00.000+01:00'}]}},\n",
       "  {'type': 'Non-renewable waste',\n",
       "   'id': '10294',\n",
       "   'groupId': '1',\n",
       "   'attributes': {'title': 'Non-renewable waste',\n",
       "    'description': None,\n",
       "    'color': '#666666',\n",
       "    'type': 'No-Renovable',\n",
       "    'magnitude': None,\n",
       "    'composite': False,\n",
       "    'last-update': '2022-01-11T10:26:33.000+01:00',\n",
       "    'values': [{'value': 17625.752,\n",
       "      'percentage': 0.007774411495608949,\n",
       "      'datetime': '2021-11-01T00:00:00.000+01:00'}]}},\n",
       "  {'type': 'Renewable waste',\n",
       "   'id': '10295',\n",
       "   'groupId': '1',\n",
       "   'attributes': {'title': 'Renewable waste',\n",
       "    'description': None,\n",
       "    'color': '#a0a0a0',\n",
       "    'type': 'Renovable',\n",
       "    'magnitude': None,\n",
       "    'composite': False,\n",
       "    'last-update': '2022-01-11T10:26:33.000+01:00',\n",
       "    'values': [{'value': 8463.573,\n",
       "      'percentage': 0.00373313429266028,\n",
       "      'datetime': '2021-11-01T00:00:00.000+01:00'}]}},\n",
       "  {'type': 'Total generation',\n",
       "   'id': '1',\n",
       "   'groupId': '1',\n",
       "   'attributes': {'title': 'Total generation',\n",
       "    'description': None,\n",
       "    'color': '#2b2e34',\n",
       "    'type': 'Total generation',\n",
       "    'magnitude': None,\n",
       "    'composite': True,\n",
       "    'last-update': '2022-11-10T20:21:02.000+01:00',\n",
       "    'values': [{'value': 2267149.354,\n",
       "      'percentage': 1,\n",
       "      'datetime': '2021-11-01T00:00:00.000+01:00'}]}}]}"
      ]
     },
     "execution_count": 31,
     "metadata": {},
     "output_type": "execute_result"
    }
   ],
   "source": [
    "response.json()"
   ]
  },
  {
   "cell_type": "markdown",
   "metadata": {},
   "source": [
    "Change parameters accordingly.\n",
    "\n"
   ]
  },
  {
   "cell_type": "markdown",
   "metadata": {},
   "source": [
    "When your connection is succesfully established. Access the data by means of a json object"
   ]
  },
  {
   "cell_type": "code",
   "execution_count": 32,
   "metadata": {},
   "outputs": [
    {
     "data": {
      "text/plain": [
       "{'data': {'type': 'Generation structure by technology',\n",
       "  'id': 'gen1',\n",
       "  'attributes': {'title': 'Generation structure by technology',\n",
       "   'last-update': '2022-11-10T20:21:12.000+01:00',\n",
       "   'description': None},\n",
       "  'meta': {'cache-control': {'cache': 'HIT',\n",
       "    'expireAt': '2022-12-22T09:44:57'}}},\n",
       " 'included': [{'type': 'Hydro',\n",
       "   'id': '10288',\n",
       "   'groupId': '1',\n",
       "   'attributes': {'title': 'Hydro',\n",
       "    'description': None,\n",
       "    'color': '#0090d1',\n",
       "    'type': 'Renovable',\n",
       "    'magnitude': None,\n",
       "    'composite': False,\n",
       "    'last-update': '2022-11-10T20:21:02.000+01:00',\n",
       "    'values': [{'value': 99052.855,\n",
       "      'percentage': 0.043690485068942665,\n",
       "      'datetime': '2021-11-01T00:00:00.000+01:00'}]}},\n",
       "  {'type': 'Pumped storage',\n",
       "   'id': '1445',\n",
       "   'groupId': '1',\n",
       "   'attributes': {'title': 'Pumped storage',\n",
       "    'description': None,\n",
       "    'color': '#007cf9',\n",
       "    'type': 'No-Renovable',\n",
       "    'magnitude': None,\n",
       "    'composite': False,\n",
       "    'last-update': '2022-01-11T10:26:24.000+01:00',\n",
       "    'values': [{'value': 10420.255,\n",
       "      'percentage': 0.004596192562971306,\n",
       "      'datetime': '2021-11-01T00:00:00.000+01:00'}]}},\n",
       "  {'type': 'Nuclear',\n",
       "   'id': '1446',\n",
       "   'groupId': '1',\n",
       "   'attributes': {'title': 'Nuclear',\n",
       "    'description': None,\n",
       "    'color': '#464394',\n",
       "    'type': 'No-Renovable',\n",
       "    'magnitude': None,\n",
       "    'composite': False,\n",
       "    'last-update': '2022-01-11T10:26:24.000+01:00',\n",
       "    'values': [{'value': 353777.612,\n",
       "      'percentage': 0.15604512837931014,\n",
       "      'datetime': '2021-11-01T00:00:00.000+01:00'}]}},\n",
       "  {'type': 'Coal',\n",
       "   'id': '10289',\n",
       "   'groupId': '1',\n",
       "   'attributes': {'title': 'Coal',\n",
       "    'description': None,\n",
       "    'color': '#993300',\n",
       "    'type': 'No-Renovable',\n",
       "    'magnitude': None,\n",
       "    'composite': False,\n",
       "    'last-update': '2022-11-10T20:21:06.000+01:00',\n",
       "    'values': [{'value': 58275.467,\n",
       "      'percentage': 0.025704291116587813,\n",
       "      'datetime': '2021-11-01T00:00:00.000+01:00'}]}},\n",
       "  {'type': 'Diesel engines',\n",
       "   'id': '10344',\n",
       "   'groupId': '1',\n",
       "   'attributes': {'title': 'Diesel engines',\n",
       "    'description': None,\n",
       "    'color': '#8DA69F',\n",
       "    'type': 'No-Renovable',\n",
       "    'magnitude': None,\n",
       "    'composite': False,\n",
       "    'last-update': '2022-11-10T20:21:06.000+01:00',\n",
       "    'values': [{'value': 21708.936,\n",
       "      'percentage': 0.009575432673501758,\n",
       "      'datetime': '2021-11-01T00:00:00.000+01:00'}]}},\n",
       "  {'type': 'Gas turbine',\n",
       "   'id': '1450',\n",
       "   'groupId': '1',\n",
       "   'attributes': {'title': 'Gas turbine',\n",
       "    'description': None,\n",
       "    'color': '#00ccff',\n",
       "    'type': 'No-Renovable',\n",
       "    'magnitude': None,\n",
       "    'composite': False,\n",
       "    'last-update': '2022-01-11T10:26:25.000+01:00',\n",
       "    'values': [{'value': 2861.847,\n",
       "      'percentage': 0.0012623107493781817,\n",
       "      'datetime': '2021-11-01T00:00:00.000+01:00'}]}},\n",
       "  {'type': 'Steam turbine',\n",
       "   'id': '1451',\n",
       "   'groupId': '1',\n",
       "   'attributes': {'title': 'Steam turbine',\n",
       "    'description': None,\n",
       "    'color': '#AF8E00',\n",
       "    'type': 'No-Renovable',\n",
       "    'magnitude': None,\n",
       "    'composite': False,\n",
       "    'last-update': '2022-01-11T10:26:25.000+01:00',\n",
       "    'values': [{'value': 11915.048,\n",
       "      'percentage': 0.005255519659072272,\n",
       "      'datetime': '2021-11-01T00:00:00.000+01:00'}]}},\n",
       "  {'type': 'Combined cycle',\n",
       "   'id': '1454',\n",
       "   'groupId': '1',\n",
       "   'attributes': {'title': 'Combined cycle',\n",
       "    'description': None,\n",
       "    'color': '#ffcc66',\n",
       "    'type': 'No-Renovable',\n",
       "    'magnitude': None,\n",
       "    'composite': False,\n",
       "    'last-update': '2022-11-10T20:21:07.000+01:00',\n",
       "    'values': [{'value': 521310.424,\n",
       "      'percentage': 0.22994092695315213,\n",
       "      'datetime': '2021-11-01T00:00:00.000+01:00'}]}},\n",
       "  {'type': 'Hydroeolian',\n",
       "   'id': '1455',\n",
       "   'groupId': '1',\n",
       "   'attributes': {'title': 'Hydroeolian',\n",
       "    'description': None,\n",
       "    'color': '#00FFFF',\n",
       "    'type': 'Renovable',\n",
       "    'magnitude': None,\n",
       "    'composite': False,\n",
       "    'last-update': '2022-01-11T10:26:25.000+01:00',\n",
       "    'values': [{'value': 38.87,\n",
       "      'percentage': 1.714487840486578e-05,\n",
       "      'datetime': '2021-11-01T00:00:00.000+01:00'}]}},\n",
       "  {'type': 'Wind',\n",
       "   'id': '10291',\n",
       "   'groupId': '1',\n",
       "   'attributes': {'title': 'Wind',\n",
       "    'description': None,\n",
       "    'color': '#6fb114',\n",
       "    'type': 'Renovable',\n",
       "    'magnitude': None,\n",
       "    'composite': False,\n",
       "    'last-update': '2022-11-10T20:21:08.000+01:00',\n",
       "    'values': [{'value': 710622.648,\n",
       "      'percentage': 0.313443243933721,\n",
       "      'datetime': '2021-11-01T00:00:00.000+01:00'}]}},\n",
       "  {'type': 'Solar photovoltaic',\n",
       "   'id': '1458',\n",
       "   'groupId': '1',\n",
       "   'attributes': {'title': 'Solar photovoltaic',\n",
       "    'description': None,\n",
       "    'color': '#e48500',\n",
       "    'type': 'Renovable',\n",
       "    'magnitude': None,\n",
       "    'composite': False,\n",
       "    'last-update': '2022-11-10T20:21:09.000+01:00',\n",
       "    'values': [{'value': 164638.138,\n",
       "      'percentage': 0.07261900840785984,\n",
       "      'datetime': '2021-11-01T00:00:00.000+01:00'}]}},\n",
       "  {'type': 'Thermal solar',\n",
       "   'id': '1459',\n",
       "   'groupId': '1',\n",
       "   'attributes': {'title': 'Thermal solar',\n",
       "    'description': None,\n",
       "    'color': '#ff0000',\n",
       "    'type': 'Renovable',\n",
       "    'magnitude': None,\n",
       "    'composite': False,\n",
       "    'last-update': '2022-01-11T10:26:30.000+01:00',\n",
       "    'values': [{'value': 25686.656,\n",
       "      'percentage': 0.011329935522192334,\n",
       "      'datetime': '2021-11-01T00:00:00.000+01:00'}]}},\n",
       "  {'type': 'Other renewables',\n",
       "   'id': '10292',\n",
       "   'groupId': '1',\n",
       "   'attributes': {'title': 'Other renewables',\n",
       "    'description': None,\n",
       "    'color': '#9a5cbc',\n",
       "    'type': 'Renovable',\n",
       "    'magnitude': None,\n",
       "    'composite': False,\n",
       "    'last-update': '2022-11-10T20:21:11.000+01:00',\n",
       "    'values': [{'value': 45617.879,\n",
       "      'percentage': 0.02012125002682995,\n",
       "      'datetime': '2021-11-01T00:00:00.000+01:00'}]}},\n",
       "  {'type': 'Cogeneration',\n",
       "   'id': '10293',\n",
       "   'groupId': '1',\n",
       "   'attributes': {'title': 'Cogeneration',\n",
       "    'description': None,\n",
       "    'color': '#cfa2ca',\n",
       "    'type': 'No-Renovable',\n",
       "    'magnitude': None,\n",
       "    'composite': False,\n",
       "    'last-update': '2022-11-10T20:21:12.000+01:00',\n",
       "    'values': [{'value': 215133.394,\n",
       "      'percentage': 0.09489158427980657,\n",
       "      'datetime': '2021-11-01T00:00:00.000+01:00'}]}},\n",
       "  {'type': 'Non-renewable waste',\n",
       "   'id': '10294',\n",
       "   'groupId': '1',\n",
       "   'attributes': {'title': 'Non-renewable waste',\n",
       "    'description': None,\n",
       "    'color': '#666666',\n",
       "    'type': 'No-Renovable',\n",
       "    'magnitude': None,\n",
       "    'composite': False,\n",
       "    'last-update': '2022-01-11T10:26:33.000+01:00',\n",
       "    'values': [{'value': 17625.752,\n",
       "      'percentage': 0.007774411495608949,\n",
       "      'datetime': '2021-11-01T00:00:00.000+01:00'}]}},\n",
       "  {'type': 'Renewable waste',\n",
       "   'id': '10295',\n",
       "   'groupId': '1',\n",
       "   'attributes': {'title': 'Renewable waste',\n",
       "    'description': None,\n",
       "    'color': '#a0a0a0',\n",
       "    'type': 'Renovable',\n",
       "    'magnitude': None,\n",
       "    'composite': False,\n",
       "    'last-update': '2022-01-11T10:26:33.000+01:00',\n",
       "    'values': [{'value': 8463.573,\n",
       "      'percentage': 0.00373313429266028,\n",
       "      'datetime': '2021-11-01T00:00:00.000+01:00'}]}},\n",
       "  {'type': 'Total generation',\n",
       "   'id': '1',\n",
       "   'groupId': '1',\n",
       "   'attributes': {'title': 'Total generation',\n",
       "    'description': None,\n",
       "    'color': '#2b2e34',\n",
       "    'type': 'Total generation',\n",
       "    'magnitude': None,\n",
       "    'composite': True,\n",
       "    'last-update': '2022-11-10T20:21:02.000+01:00',\n",
       "    'values': [{'value': 2267149.354,\n",
       "      'percentage': 1,\n",
       "      'datetime': '2021-11-01T00:00:00.000+01:00'}]}}]}"
      ]
     },
     "execution_count": 32,
     "metadata": {},
     "output_type": "execute_result"
    }
   ],
   "source": [
    "json = response.json()\n",
    "json\n",
    "\n",
    "\n",
    "# type code here to extract data"
   ]
  },
  {
   "cell_type": "markdown",
   "metadata": {},
   "source": [
    "Store the data in local python structures"
   ]
  },
  {
   "cell_type": "code",
   "execution_count": 33,
   "metadata": {},
   "outputs": [
    {
     "ename": "KeyError",
     "evalue": "'values'",
     "output_type": "error",
     "traceback": [
      "\u001b[0;31m---------------------------------------------------------------------------\u001b[0m",
      "\u001b[0;31mKeyError\u001b[0m                                  Traceback (most recent call last)",
      "Input \u001b[0;32mIn [33]\u001b[0m, in \u001b[0;36m<cell line: 4>\u001b[0;34m()\u001b[0m\n\u001b[1;32m      4\u001b[0m \u001b[38;5;28;01mfor\u001b[39;00m gen_t \u001b[38;5;129;01min\u001b[39;00m json[\u001b[38;5;124m'\u001b[39m\u001b[38;5;124mincluded\u001b[39m\u001b[38;5;124m'\u001b[39m]:\n\u001b[1;32m      5\u001b[0m     gen_type\u001b[38;5;241m.\u001b[39mappend(gen_t[\u001b[38;5;124m'\u001b[39m\u001b[38;5;124mtype\u001b[39m\u001b[38;5;124m'\u001b[39m])\n\u001b[0;32m----> 6\u001b[0m     gen\u001b[38;5;241m.\u001b[39mappend(\u001b[43mgen_t\u001b[49m\u001b[43m[\u001b[49m\u001b[38;5;124;43m'\u001b[39;49m\u001b[38;5;124;43mvalues\u001b[39;49m\u001b[38;5;124;43m'\u001b[39;49m\u001b[43m]\u001b[49m[\u001b[38;5;241m0\u001b[39m][\u001b[38;5;241m0\u001b[39m])\n",
      "\u001b[0;31mKeyError\u001b[0m: 'values'"
     ]
    }
   ],
   "source": [
    "# type code here\n",
    "gen_type = []\n",
    "gen = []\n",
    "for gen_t in json['included']:\n",
    "    gen_type.append(gen_t['type'])\n",
    "    gen.append(gen_t['values'][0][0])\n"
   ]
  },
  {
   "cell_type": "markdown",
   "metadata": {},
   "source": [
    "Print the data for better visualization and analysis"
   ]
  },
  {
   "cell_type": "code",
   "execution_count": 147,
   "metadata": {},
   "outputs": [
    {
     "data": {
      "text/plain": [
       "[['Hydro',\n",
       "  'Pumped storage',\n",
       "  'Nuclear',\n",
       "  'Coal',\n",
       "  'Diesel engines',\n",
       "  'Gas turbine',\n",
       "  'Steam turbine',\n",
       "  'Combined cycle',\n",
       "  'Hydroeolian',\n",
       "  'Wind',\n",
       "  'Solar photovoltaic',\n",
       "  'Thermal solar',\n",
       "  'Other renewables',\n",
       "  'Cogeneration',\n",
       "  'Non-renewable waste',\n",
       "  'Renewable waste',\n",
       "  'Total generation']]"
      ]
     },
     "execution_count": 147,
     "metadata": {},
     "output_type": "execute_result"
    }
   ],
   "source": [
    "data_combined = [gen_type]\n",
    "data_combined"
   ]
  },
  {
   "cell_type": "markdown",
   "metadata": {},
   "source": [
    "# Part III: Exercize"
   ]
  },
  {
   "cell_type": "markdown",
   "metadata": {},
   "source": [
    "Going back to the Part 1 of the lab, take the most updated prices for the spot market and the PVPC and compare them in a chart. Draw some conclusions."
   ]
  },
  {
   "cell_type": "code",
   "execution_count": null,
   "metadata": {},
   "outputs": [],
   "source": []
  },
  {
   "cell_type": "code",
   "execution_count": null,
   "metadata": {},
   "outputs": [],
   "source": []
  },
  {
   "cell_type": "code",
   "execution_count": null,
   "metadata": {},
   "outputs": [],
   "source": []
  },
  {
   "cell_type": "code",
   "execution_count": null,
   "metadata": {},
   "outputs": [],
   "source": []
  },
  {
   "cell_type": "code",
   "execution_count": null,
   "metadata": {},
   "outputs": [],
   "source": []
  },
  {
   "cell_type": "markdown",
   "metadata": {},
   "source": [
    "# Part IV: another Example"
   ]
  },
  {
   "cell_type": "markdown",
   "metadata": {},
   "source": [
    "### Gather Day-Ahead Market Clearing Price with old REE API"
   ]
  },
  {
   "cell_type": "markdown",
   "metadata": {},
   "source": [
    "Here follows another example of gathering data of the DAM price (Day Ahead Market clearing price - Precio mercado SPOT Diario), using the old version available of the API from REE. \n",
    "This is just an example to show you a different API syntax.\n",
    "\n",
    "\n",
    "As you can see here, the API requires an authentication through a personal user token (available in the code lines). This API is however out-dated and no more in use. REE suggests to use the new open API.\n",
    "\n",
    "Mind that you should consult the old API documentation available here (https://api.esios.ree.es/)"
   ]
  },
  {
   "cell_type": "code",
   "execution_count": null,
   "metadata": {},
   "outputs": [],
   "source": [
    "# select the indicator for market clearing (DAM) price (Precio mercado SPOT Diario)\n",
    "indicator = str(600)    \n",
    "# You can get it by putting the mouse over the indicator name on the webpage. \n",
    "# webpage: https://www.esios.ree.es/es/analisis/600\n",
    "# NB: Imbalance indicator is 687\n",
    "\n",
    "# start building the URL\n",
    "website = 'https://api.esios.ree.es/indicators/'+indicator+'?start_date='+'2019-10-12T00:00:00.00'+'&end_date='+'2019-10-13T00:00:00.00'\n",
    "URL = website # host website\n",
    "GET = '/archives_json' # API link\n",
    "HEADERS = {\n",
    "            'Accept': \"application/json; application/vnd.esios-api-v1+json\",\n",
    "            'Host': 'api.esios.ree.es',\n",
    "            'Authorization': \"Token token=\\\"a6f2f926dea90ade64acc97b3b4fff73af5bdc5d7bce554a1adfa16d554ede81\",#\"a6f2f926dea90ade64acc97b3b4fff73af5bdc5d7bce554a1adfa16d554ede81\"',\n",
    "            'Content-Type': 'application/json'}\n",
    "#PARAMS = {'date':date}\n",
    "\n",
    "# Runs the request to get the total URL with access token\n",
    "response = requests.get(url = URL+GET, headers = HEADERS)#, params = PARAMS)\n",
    "\n",
    "# Read the status code\n",
    "status = response.status_code  \n",
    "\n",
    "# extract the data in json format\n",
    "json_data = response.json()\n"
   ]
  },
  {
   "cell_type": "code",
   "execution_count": null,
   "metadata": {},
   "outputs": [],
   "source": [
    "status"
   ]
  },
  {
   "cell_type": "code",
   "execution_count": null,
   "metadata": {},
   "outputs": [],
   "source": [
    "json_data"
   ]
  },
  {
   "cell_type": "code",
   "execution_count": null,
   "metadata": {
    "scrolled": false
   },
   "outputs": [],
   "source": [
    "# Diving into the data:\n",
    "marketlist = []\n",
    "for stuff in response.json()[\"indicator\"]['values']:\n",
    "    #print(stuff) ## show more stuff that can be gathered\n",
    "    if stuff['geo_id'] == 3: ## choose Espana. 1 = Portugal, 2 = Francia\n",
    "    #print(stuff['value'])\n",
    "        marketlist.append(stuff['value'])\n",
    "\n",
    "# Print the data\n",
    "print('\\n')\n",
    "print(f\"List of market prices for day 2019-10-12 in €/MWh:\")        \n",
    "print(marketlist)\n",
    "\n"
   ]
  },
  {
   "cell_type": "code",
   "execution_count": null,
   "metadata": {},
   "outputs": [],
   "source": [
    "# Plot the data\n",
    "plt.style.use('ggplot')\n",
    "plt.figure(figsize=(20,10))\n",
    "plt.plot(marketlist,'r',linewidth=3, color='cornflowerblue')\n",
    "plt.title(f\"Day-Ahead Market prices - Spain 2019/10/12\")\n",
    "#plt.xlim(0,24)\n",
    "#plt.ylim(0,50)\n",
    "plt.xlabel('Hour')\n",
    "plt.ylabel('Price [€/MWh]')\n",
    "plt.show()"
   ]
  },
  {
   "cell_type": "markdown",
   "metadata": {},
   "source": [
    "Same code but now requesting recent dates. Remember, to gather the day-ahead market price (contracted today, but referred tomorrow) you have to ask to the API the date of tomorrow."
   ]
  },
  {
   "cell_type": "code",
   "execution_count": null,
   "metadata": {},
   "outputs": [],
   "source": [
    "date_today = date.today()                # use todays prices\n",
    "date = date_today + timedelta(days=1)    # open to use tomorrows prices\n",
    "#dateend = datetime.date.today()            # use to specify a date\n",
    "dateend = date                              # to use only one day\n",
    "\n",
    "startdate = str(date_today) + \"T00:00:00.00\" # can specify more if desired\n",
    "enddate = str(dateend) + \"T23:50:00.00\"\n",
    "     \n",
    "print('Checking dates: ' , startdate , \"to\" , enddate) # printing the date "
   ]
  },
  {
   "cell_type": "code",
   "execution_count": null,
   "metadata": {},
   "outputs": [],
   "source": [
    "website = 'https://api.esios.ree.es/indicators/'+indicator+'?start_date='+startdate+'&end_date='+enddate\n",
    "URL = website # host website\n",
    "GET = '/archives_json' # API link\n",
    "HEADERS = {\n",
    "            'Accept': \"application/json; application/vnd.esios-api-v1+json\",\n",
    "            'Host': 'api.esios.ree.es',\n",
    "            'Authorization': \"Token token=\\\"a6f2f926dea90ade64acc97b3b4fff73af5bdc5d7bce554a1adfa16d554ede81\",#\"a6f2f926dea90ade64acc97b3b4fff73af5bdc5d7bce554a1adfa16d554ede81\"',\n",
    "            'Content-Type': 'application/json'}\n",
    "#PARAMS = {'date':date}\n",
    "\n",
    "# Runs the request to get the total URL with access token\n",
    "response = requests.get(url = URL+GET, headers = HEADERS)#, params = PARAMS)\n",
    "\n",
    "# Read the status code\n",
    "status = response.status_code \n",
    "status\n",
    "\n",
    "json_data = response.json()\n",
    "json_data"
   ]
  },
  {
   "cell_type": "code",
   "execution_count": null,
   "metadata": {},
   "outputs": [],
   "source": [
    "# Diving into the data:\n",
    "marketlist = []\n",
    "for stuff in response.json()[\"indicator\"]['values']:\n",
    "    #print(stuff) ## show more stuff that can be gathered\n",
    "    if stuff['geo_id'] == 3: ## choose Espana. 1 = Portugal, 2 = Francia\n",
    "    #print(stuff['value'])\n",
    "        marketlist.append(stuff['value'])\n",
    "\n",
    "# Print the data\n",
    "print('\\n')\n",
    "print(f\"List of market prices for {date_today} in €/MWh:\")        \n",
    "print(marketlist)\n",
    "\n",
    "# Plot the data\n",
    "plt.style.use('ggplot')\n",
    "plt.figure(figsize=(20,10))\n",
    "plt.plot(marketlist,'r',linewidth=3, color='cornflowerblue')\n",
    "plt.title(f\"Day-Ahead Market prices for {date_today}\")\n",
    "plt.xlabel('Hour')\n",
    "plt.ylabel('Price [€/MWh]')\n",
    "plt.show()"
   ]
  },
  {
   "cell_type": "markdown",
   "metadata": {},
   "source": [
    "# Part V: CO2 Signal API"
   ]
  },
  {
   "cell_type": "markdown",
   "metadata": {},
   "source": [
    "This is a free to use API from the famous **electricitymap.org**.\n",
    "\n",
    "You can use our API to get access to information about how much carbon is emitted when producing electricity in a country.\n",
    "API documentation is available at https://docs.co2signal.com/#introduction\n",
    "\n",
    "CO2 Signal uses API keys to allow access to the API. You can get an API key by making a request in their website.\n",
    "CO2 Signal expects the API key to be included as a header in all requests to the server"
   ]
  },
  {
   "cell_type": "markdown",
   "metadata": {},
   "source": [
    "### Get latest by country code"
   ]
  },
  {
   "cell_type": "code",
   "execution_count": 38,
   "metadata": {},
   "outputs": [],
   "source": [
    "my_api_token = '6XKOU4LnlqtA4eCwDvkzkkzIbXqoeI0D'\n",
    "\n",
    "endpoint = 'https://api.co2signal.com'\n",
    "get_archive = '/v1/latest'\n",
    "headers = {'auth-token': my_api_token}\n",
    "params = {'countryCode':'ES'} "
   ]
  },
  {
   "cell_type": "code",
   "execution_count": 39,
   "metadata": {},
   "outputs": [
    {
     "data": {
      "text/plain": [
       "<Response [200]>"
      ]
     },
     "execution_count": 39,
     "metadata": {},
     "output_type": "execute_result"
    }
   ],
   "source": [
    "response = requests.get(endpoint+get_archive, headers=headers, params=params)\n",
    "response"
   ]
  },
  {
   "cell_type": "code",
   "execution_count": 40,
   "metadata": {},
   "outputs": [
    {
     "data": {
      "text/plain": [
       "{'_disclaimer': \"This data is the exclusive property of Electricity Maps and/or related parties. If you're in doubt about your rights to use this data, please contact api@co2signal.com\",\n",
       " 'status': 'ok',\n",
       " 'countryCode': 'ES',\n",
       " 'data': {'datetime': '2022-11-22T09:00:00.000Z',\n",
       "  'carbonIntensity': 105,\n",
       "  'fossilFuelPercentage': 14.85},\n",
       " 'units': {'carbonIntensity': 'gCO2eq/kWh'}}"
      ]
     },
     "execution_count": 40,
     "metadata": {},
     "output_type": "execute_result"
    }
   ],
   "source": [
    "# extract the data in json format\n",
    "json_data = response.json()\n",
    "json_data"
   ]
  },
  {
   "cell_type": "markdown",
   "metadata": {},
   "source": [
    "Looking both at the docs and at the json structure we can see we have 2 information available **carbon intensity** and **fossil fuel percentage** for the desired country at the latest time available."
   ]
  },
  {
   "cell_type": "code",
   "execution_count": 41,
   "metadata": {},
   "outputs": [
    {
     "name": "stdout",
     "output_type": "stream",
     "text": [
      "Details of energy production in country ES at 2022-11-22 09:00:00\n",
      "Carbon Intensity: 105\n",
      "Fossil Fuel Percentage: 14.85\n"
     ]
    }
   ],
   "source": [
    "co2_intensity = json_data['data']['carbonIntensity']\n",
    "ff_perc = json_data['data']['fossilFuelPercentage']\n",
    "time_str = json_data['data']['datetime']\n",
    "# from string to datetime\n",
    "time = datetime.strptime(time_str[:16], '%Y-%m-%dT%H:%M') \n",
    "\n",
    "print(f\"Details of energy production in country {params['countryCode']} at {time}\")\n",
    "print(f\"Carbon Intensity: {co2_intensity}\")\n",
    "print(f\"Fossil Fuel Percentage: {ff_perc}\")\n"
   ]
  },
  {
   "cell_type": "markdown",
   "metadata": {},
   "source": [
    "# Part VI: WeatherAPI.com"
   ]
  },
  {
   "cell_type": "markdown",
   "metadata": {},
   "source": [
    "WeatherAPI.com is a powerful fully managed **free weather and geolocation API provider** that provides extensive APIs that range from the weather forecast, historical weather, future weather, weather alerts, air quality data, IP lookup, and astronomy through to sports, time zone, and geolocation.\n",
    "\n",
    "The API can be found accessed in the popular API market place **RapidAPI** (https://rapidapi.com/weatherapi/api/weatherapi-com)\n",
    "\n",
    "It is required to sign up with an account in RapidAPI to use the free API. When you did that you need to subscribe to a pricing plan for the API (the free one, of course). Take a look at the limited functionalities, you can access only a few endpoints. As you can see all of them allow for **GET** methods.\n",
    "\n",
    "Once the subscription is active you can generate in an authomatic way the code for the request through the interface (very useful) and copypaste it to use it right away.\n",
    "\n",
    "One of the endpoints available with the free subscription is the current weather. Let's check this out"
   ]
  },
  {
   "cell_type": "code",
   "execution_count": 31,
   "metadata": {},
   "outputs": [
    {
     "name": "stdout",
     "output_type": "stream",
     "text": [
      "{'location': {'name': 'Barcelona', 'region': 'Catalonia', 'country': 'Spain', 'lat': 41.38, 'lon': 2.18, 'tz_id': 'Europe/Madrid', 'localtime_epoch': 1669119066, 'localtime': '2022-11-22 13:11'}, 'current': {'last_updated_epoch': 1669118400, 'last_updated': '2022-11-22 13:00', 'temp_c': 13.0, 'temp_f': 55.4, 'is_day': 1, 'condition': {'text': 'Partly cloudy', 'icon': '//cdn.weatherapi.com/weather/64x64/day/116.png', 'code': 1003}, 'wind_mph': 17.4, 'wind_kph': 28.1, 'wind_degree': 290, 'wind_dir': 'WNW', 'pressure_mb': 1010.0, 'pressure_in': 29.83, 'precip_mm': 0.0, 'precip_in': 0.0, 'humidity': 41, 'cloud': 25, 'feelslike_c': 10.1, 'feelslike_f': 50.2, 'vis_km': 10.0, 'vis_miles': 6.0, 'uv': 5.0, 'gust_mph': 26.8, 'gust_kph': 43.2}, 'forecast': {'forecastday': [{'date': '2022-11-22', 'date_epoch': 1669075200, 'day': {'maxtemp_c': 16.6, 'maxtemp_f': 61.9, 'mintemp_c': 11.0, 'mintemp_f': 51.8, 'avgtemp_c': 13.5, 'avgtemp_f': 56.4, 'maxwind_mph': 25.3, 'maxwind_kph': 40.7, 'totalprecip_mm': 0.7, 'totalprecip_in': 0.03, 'totalsnow_cm': 0.0, 'avgvis_km': 10.0, 'avgvis_miles': 6.0, 'avghumidity': 55.0, 'daily_will_it_rain': 1, 'daily_chance_of_rain': 87, 'daily_will_it_snow': 0, 'daily_chance_of_snow': 0, 'condition': {'text': 'Patchy rain possible', 'icon': '//cdn.weatherapi.com/weather/64x64/day/176.png', 'code': 1063}, 'uv': 3.0}, 'astro': {'sunrise': '07:48 AM', 'sunset': '05:28 PM', 'moonrise': '05:53 AM', 'moonset': '04:29 PM', 'moon_phase': 'New Moon', 'moon_illumination': '0'}, 'hour': [{'time_epoch': 1669071600, 'time': '2022-11-22 00:00', 'temp_c': 13.4, 'temp_f': 56.1, 'is_day': 0, 'condition': {'text': 'Patchy rain possible', 'icon': '//cdn.weatherapi.com/weather/64x64/night/176.png', 'code': 1063}, 'wind_mph': 18.8, 'wind_kph': 30.2, 'wind_degree': 308, 'wind_dir': 'NW', 'pressure_mb': 1003.0, 'pressure_in': 29.62, 'precip_mm': 0.1, 'precip_in': 0.0, 'humidity': 65, 'cloud': 100, 'feelslike_c': 11.0, 'feelslike_f': 51.8, 'windchill_c': 11.0, 'windchill_f': 51.8, 'heatindex_c': 13.4, 'heatindex_f': 56.1, 'dewpoint_c': 6.9, 'dewpoint_f': 44.4, 'will_it_rain': 1, 'chance_of_rain': 73, 'will_it_snow': 0, 'chance_of_snow': 0, 'vis_km': 10.0, 'vis_miles': 6.0, 'gust_mph': 22.8, 'gust_kph': 36.7, 'uv': 1.0}, {'time_epoch': 1669075200, 'time': '2022-11-22 01:00', 'temp_c': 13.0, 'temp_f': 55.4, 'is_day': 0, 'condition': {'text': 'Overcast', 'icon': '//cdn.weatherapi.com/weather/64x64/night/122.png', 'code': 1009}, 'wind_mph': 13.4, 'wind_kph': 21.6, 'wind_degree': 314, 'wind_dir': 'NW', 'pressure_mb': 1004.0, 'pressure_in': 29.65, 'precip_mm': 0.0, 'precip_in': 0.0, 'humidity': 62, 'cloud': 100, 'feelslike_c': 11.0, 'feelslike_f': 51.8, 'windchill_c': 11.0, 'windchill_f': 51.8, 'heatindex_c': 13.0, 'heatindex_f': 55.4, 'dewpoint_c': 5.8, 'dewpoint_f': 42.4, 'will_it_rain': 0, 'chance_of_rain': 0, 'will_it_snow': 0, 'chance_of_snow': 0, 'vis_km': 10.0, 'vis_miles': 6.0, 'gust_mph': 16.3, 'gust_kph': 26.3, 'uv': 1.0}, {'time_epoch': 1669078800, 'time': '2022-11-22 02:00', 'temp_c': 12.5, 'temp_f': 54.5, 'is_day': 0, 'condition': {'text': 'Patchy rain possible', 'icon': '//cdn.weatherapi.com/weather/64x64/night/176.png', 'code': 1063}, 'wind_mph': 14.5, 'wind_kph': 23.4, 'wind_degree': 302, 'wind_dir': 'WNW', 'pressure_mb': 1005.0, 'pressure_in': 29.67, 'precip_mm': 0.1, 'precip_in': 0.0, 'humidity': 58, 'cloud': 87, 'feelslike_c': 10.3, 'feelslike_f': 50.5, 'windchill_c': 10.3, 'windchill_f': 50.5, 'heatindex_c': 12.5, 'heatindex_f': 54.5, 'dewpoint_c': 4.4, 'dewpoint_f': 39.9, 'will_it_rain': 1, 'chance_of_rain': 84, 'will_it_snow': 0, 'chance_of_snow': 0, 'vis_km': 10.0, 'vis_miles': 6.0, 'gust_mph': 17.9, 'gust_kph': 28.8, 'uv': 1.0}, {'time_epoch': 1669082400, 'time': '2022-11-22 03:00', 'temp_c': 12.4, 'temp_f': 54.3, 'is_day': 0, 'condition': {'text': 'Clear', 'icon': '//cdn.weatherapi.com/weather/64x64/night/113.png', 'code': 1000}, 'wind_mph': 13.2, 'wind_kph': 21.2, 'wind_degree': 307, 'wind_dir': 'NW', 'pressure_mb': 1005.0, 'pressure_in': 29.68, 'precip_mm': 0.0, 'precip_in': 0.0, 'humidity': 57, 'cloud': 11, 'feelslike_c': 10.3, 'feelslike_f': 50.5, 'windchill_c': 10.3, 'windchill_f': 50.5, 'heatindex_c': 12.4, 'heatindex_f': 54.3, 'dewpoint_c': 4.3, 'dewpoint_f': 39.7, 'will_it_rain': 0, 'chance_of_rain': 0, 'will_it_snow': 0, 'chance_of_snow': 0, 'vis_km': 10.0, 'vis_miles': 6.0, 'gust_mph': 16.3, 'gust_kph': 26.3, 'uv': 1.0}, {'time_epoch': 1669086000, 'time': '2022-11-22 04:00', 'temp_c': 11.9, 'temp_f': 53.4, 'is_day': 0, 'condition': {'text': 'Patchy rain possible', 'icon': '//cdn.weatherapi.com/weather/64x64/night/176.png', 'code': 1063}, 'wind_mph': 14.3, 'wind_kph': 23.0, 'wind_degree': 305, 'wind_dir': 'NW', 'pressure_mb': 1006.0, 'pressure_in': 29.71, 'precip_mm': 0.3, 'precip_in': 0.01, 'humidity': 61, 'cloud': 89, 'feelslike_c': 9.5, 'feelslike_f': 49.1, 'windchill_c': 9.5, 'windchill_f': 49.1, 'heatindex_c': 11.9, 'heatindex_f': 53.4, 'dewpoint_c': 4.7, 'dewpoint_f': 40.5, 'will_it_rain': 1, 'chance_of_rain': 81, 'will_it_snow': 0, 'chance_of_snow': 0, 'vis_km': 10.0, 'vis_miles': 6.0, 'gust_mph': 17.4, 'gust_kph': 28.1, 'uv': 1.0}, {'time_epoch': 1669089600, 'time': '2022-11-22 05:00', 'temp_c': 11.7, 'temp_f': 53.1, 'is_day': 0, 'condition': {'text': 'Clear', 'icon': '//cdn.weatherapi.com/weather/64x64/night/113.png', 'code': 1000}, 'wind_mph': 20.8, 'wind_kph': 33.5, 'wind_degree': 297, 'wind_dir': 'WNW', 'pressure_mb': 1007.0, 'pressure_in': 29.73, 'precip_mm': 0.0, 'precip_in': 0.0, 'humidity': 62, 'cloud': 0, 'feelslike_c': 8.6, 'feelslike_f': 47.5, 'windchill_c': 8.6, 'windchill_f': 47.5, 'heatindex_c': 11.7, 'heatindex_f': 53.1, 'dewpoint_c': 4.6, 'dewpoint_f': 40.3, 'will_it_rain': 0, 'chance_of_rain': 0, 'will_it_snow': 0, 'chance_of_snow': 0, 'vis_km': 10.0, 'vis_miles': 6.0, 'gust_mph': 24.6, 'gust_kph': 39.6, 'uv': 1.0}, {'time_epoch': 1669093200, 'time': '2022-11-22 06:00', 'temp_c': 11.4, 'temp_f': 52.5, 'is_day': 0, 'condition': {'text': 'Patchy rain possible', 'icon': '//cdn.weatherapi.com/weather/64x64/night/176.png', 'code': 1063}, 'wind_mph': 22.1, 'wind_kph': 35.6, 'wind_degree': 303, 'wind_dir': 'WNW', 'pressure_mb': 1007.0, 'pressure_in': 29.75, 'precip_mm': 0.1, 'precip_in': 0.0, 'humidity': 61, 'cloud': 72, 'feelslike_c': 8.1, 'feelslike_f': 46.6, 'windchill_c': 8.1, 'windchill_f': 46.6, 'heatindex_c': 11.4, 'heatindex_f': 52.5, 'dewpoint_c': 4.1, 'dewpoint_f': 39.4, 'will_it_rain': 1, 'chance_of_rain': 72, 'will_it_snow': 0, 'chance_of_snow': 0, 'vis_km': 10.0, 'vis_miles': 6.0, 'gust_mph': 27.1, 'gust_kph': 43.6, 'uv': 1.0}, {'time_epoch': 1669096800, 'time': '2022-11-22 07:00', 'temp_c': 11.0, 'temp_f': 51.8, 'is_day': 0, 'condition': {'text': 'Patchy rain possible', 'icon': '//cdn.weatherapi.com/weather/64x64/night/176.png', 'code': 1063}, 'wind_mph': 18.6, 'wind_kph': 29.9, 'wind_degree': 302, 'wind_dir': 'WNW', 'pressure_mb': 1007.0, 'pressure_in': 29.75, 'precip_mm': 0.1, 'precip_in': 0.0, 'humidity': 60, 'cloud': 80, 'feelslike_c': 7.9, 'feelslike_f': 46.2, 'windchill_c': 7.9, 'windchill_f': 46.2, 'heatindex_c': 11.0, 'heatindex_f': 51.8, 'dewpoint_c': 3.5, 'dewpoint_f': 38.3, 'will_it_rain': 1, 'chance_of_rain': 87, 'will_it_snow': 0, 'chance_of_snow': 0, 'vis_km': 10.0, 'vis_miles': 6.0, 'gust_mph': 24.4, 'gust_kph': 39.2, 'uv': 1.0}, {'time_epoch': 1669100400, 'time': '2022-11-22 08:00', 'temp_c': 11.1, 'temp_f': 52.0, 'is_day': 1, 'condition': {'text': 'Sunny', 'icon': '//cdn.weatherapi.com/weather/64x64/day/113.png', 'code': 1000}, 'wind_mph': 19.5, 'wind_kph': 31.3, 'wind_degree': 307, 'wind_dir': 'NW', 'pressure_mb': 1008.0, 'pressure_in': 29.78, 'precip_mm': 0.0, 'precip_in': 0.0, 'humidity': 60, 'cloud': 0, 'feelslike_c': 7.9, 'feelslike_f': 46.2, 'windchill_c': 7.9, 'windchill_f': 46.2, 'heatindex_c': 11.1, 'heatindex_f': 52.0, 'dewpoint_c': 3.5, 'dewpoint_f': 38.3, 'will_it_rain': 0, 'chance_of_rain': 0, 'will_it_snow': 0, 'chance_of_snow': 0, 'vis_km': 10.0, 'vis_miles': 6.0, 'gust_mph': 25.1, 'gust_kph': 40.3, 'uv': 4.0}, {'time_epoch': 1669104000, 'time': '2022-11-22 09:00', 'temp_c': 11.7, 'temp_f': 53.1, 'is_day': 1, 'condition': {'text': 'Sunny', 'icon': '//cdn.weatherapi.com/weather/64x64/day/113.png', 'code': 1000}, 'wind_mph': 19.9, 'wind_kph': 32.0, 'wind_degree': 306, 'wind_dir': 'NW', 'pressure_mb': 1009.0, 'pressure_in': 29.79, 'precip_mm': 0.0, 'precip_in': 0.0, 'humidity': 58, 'cloud': 0, 'feelslike_c': 8.7, 'feelslike_f': 47.7, 'windchill_c': 8.7, 'windchill_f': 47.7, 'heatindex_c': 11.7, 'heatindex_f': 53.1, 'dewpoint_c': 3.6, 'dewpoint_f': 38.5, 'will_it_rain': 0, 'chance_of_rain': 0, 'will_it_snow': 0, 'chance_of_snow': 0, 'vis_km': 10.0, 'vis_miles': 6.0, 'gust_mph': 23.3, 'gust_kph': 37.4, 'uv': 4.0}, {'time_epoch': 1669107600, 'time': '2022-11-22 10:00', 'temp_c': 12.4, 'temp_f': 54.3, 'is_day': 1, 'condition': {'text': 'Sunny', 'icon': '//cdn.weatherapi.com/weather/64x64/day/113.png', 'code': 1000}, 'wind_mph': 23.5, 'wind_kph': 37.8, 'wind_degree': 308, 'wind_dir': 'NW', 'pressure_mb': 1009.0, 'pressure_in': 29.79, 'precip_mm': 0.0, 'precip_in': 0.0, 'humidity': 54, 'cloud': 7, 'feelslike_c': 9.3, 'feelslike_f': 48.7, 'windchill_c': 9.3, 'windchill_f': 48.7, 'heatindex_c': 12.4, 'heatindex_f': 54.3, 'dewpoint_c': 3.4, 'dewpoint_f': 38.1, 'will_it_rain': 0, 'chance_of_rain': 0, 'will_it_snow': 0, 'chance_of_snow': 0, 'vis_km': 10.0, 'vis_miles': 6.0, 'gust_mph': 27.1, 'gust_kph': 43.6, 'uv': 4.0}, {'time_epoch': 1669111200, 'time': '2022-11-22 11:00', 'temp_c': 13.7, 'temp_f': 56.7, 'is_day': 1, 'condition': {'text': 'Partly cloudy', 'icon': '//cdn.weatherapi.com/weather/64x64/day/116.png', 'code': 1003}, 'wind_mph': 24.4, 'wind_kph': 39.2, 'wind_degree': 311, 'wind_dir': 'NW', 'pressure_mb': 1009.0, 'pressure_in': 29.8, 'precip_mm': 0.0, 'precip_in': 0.0, 'humidity': 50, 'cloud': 31, 'feelslike_c': 10.9, 'feelslike_f': 51.6, 'windchill_c': 10.9, 'windchill_f': 51.6, 'heatindex_c': 13.7, 'heatindex_f': 56.7, 'dewpoint_c': 3.4, 'dewpoint_f': 38.1, 'will_it_rain': 0, 'chance_of_rain': 0, 'will_it_snow': 0, 'chance_of_snow': 0, 'vis_km': 10.0, 'vis_miles': 6.0, 'gust_mph': 28.0, 'gust_kph': 45.0, 'uv': 4.0}, {'time_epoch': 1669114800, 'time': '2022-11-22 12:00', 'temp_c': 14.8, 'temp_f': 58.6, 'is_day': 1, 'condition': {'text': 'Sunny', 'icon': '//cdn.weatherapi.com/weather/64x64/day/113.png', 'code': 1000}, 'wind_mph': 25.3, 'wind_kph': 40.7, 'wind_degree': 310, 'wind_dir': 'NW', 'pressure_mb': 1009.0, 'pressure_in': 29.8, 'precip_mm': 0.0, 'precip_in': 0.0, 'humidity': 46, 'cloud': 16, 'feelslike_c': 12.4, 'feelslike_f': 54.3, 'windchill_c': 12.4, 'windchill_f': 54.3, 'heatindex_c': 14.8, 'heatindex_f': 58.6, 'dewpoint_c': 3.4, 'dewpoint_f': 38.1, 'will_it_rain': 0, 'chance_of_rain': 0, 'will_it_snow': 0, 'chance_of_snow': 0, 'vis_km': 10.0, 'vis_miles': 6.0, 'gust_mph': 29.1, 'gust_kph': 46.8, 'uv': 4.0}, {'time_epoch': 1669118400, 'time': '2022-11-22 13:00', 'temp_c': 16.6, 'temp_f': 61.9, 'is_day': 1, 'condition': {'text': 'Sunny', 'icon': '//cdn.weatherapi.com/weather/64x64/day/113.png', 'code': 1000}, 'wind_mph': 23.3, 'wind_kph': 37.4, 'wind_degree': 303, 'wind_dir': 'WNW', 'pressure_mb': 1009.0, 'pressure_in': 29.79, 'precip_mm': 0.0, 'precip_in': 0.0, 'humidity': 45, 'cloud': 4, 'feelslike_c': 16.6, 'feelslike_f': 61.9, 'windchill_c': 16.6, 'windchill_f': 61.9, 'heatindex_c': 16.6, 'heatindex_f': 61.9, 'dewpoint_c': 4.5, 'dewpoint_f': 40.1, 'will_it_rain': 0, 'chance_of_rain': 0, 'will_it_snow': 0, 'chance_of_snow': 0, 'vis_km': 10.0, 'vis_miles': 6.0, 'gust_mph': 26.8, 'gust_kph': 43.2, 'uv': 5.0}, {'time_epoch': 1669122000, 'time': '2022-11-22 14:00', 'temp_c': 15.4, 'temp_f': 59.7, 'is_day': 1, 'condition': {'text': 'Partly cloudy', 'icon': '//cdn.weatherapi.com/weather/64x64/day/116.png', 'code': 1003}, 'wind_mph': 23.5, 'wind_kph': 37.8, 'wind_degree': 299, 'wind_dir': 'WNW', 'pressure_mb': 1008.0, 'pressure_in': 29.76, 'precip_mm': 0.0, 'precip_in': 0.0, 'humidity': 45, 'cloud': 30, 'feelslike_c': 15.4, 'feelslike_f': 59.7, 'windchill_c': 15.4, 'windchill_f': 59.7, 'heatindex_c': 15.4, 'heatindex_f': 59.7, 'dewpoint_c': 3.6, 'dewpoint_f': 38.5, 'will_it_rain': 0, 'chance_of_rain': 0, 'will_it_snow': 0, 'chance_of_snow': 0, 'vis_km': 10.0, 'vis_miles': 6.0, 'gust_mph': 27.1, 'gust_kph': 43.6, 'uv': 5.0}, {'time_epoch': 1669125600, 'time': '2022-11-22 15:00', 'temp_c': 15.3, 'temp_f': 59.5, 'is_day': 1, 'condition': {'text': 'Overcast', 'icon': '//cdn.weatherapi.com/weather/64x64/day/122.png', 'code': 1009}, 'wind_mph': 22.6, 'wind_kph': 36.4, 'wind_degree': 299, 'wind_dir': 'WNW', 'pressure_mb': 1007.0, 'pressure_in': 29.75, 'precip_mm': 0.0, 'precip_in': 0.0, 'humidity': 45, 'cloud': 100, 'feelslike_c': 15.3, 'feelslike_f': 59.5, 'windchill_c': 15.3, 'windchill_f': 59.5, 'heatindex_c': 15.3, 'heatindex_f': 59.5, 'dewpoint_c': 3.6, 'dewpoint_f': 38.5, 'will_it_rain': 0, 'chance_of_rain': 0, 'will_it_snow': 0, 'chance_of_snow': 0, 'vis_km': 10.0, 'vis_miles': 6.0, 'gust_mph': 25.9, 'gust_kph': 41.8, 'uv': 4.0}, {'time_epoch': 1669129200, 'time': '2022-11-22 16:00', 'temp_c': 15.8, 'temp_f': 60.4, 'is_day': 1, 'condition': {'text': 'Partly cloudy', 'icon': '//cdn.weatherapi.com/weather/64x64/day/116.png', 'code': 1003}, 'wind_mph': 24.4, 'wind_kph': 39.2, 'wind_degree': 293, 'wind_dir': 'WNW', 'pressure_mb': 1008.0, 'pressure_in': 29.76, 'precip_mm': 0.0, 'precip_in': 0.0, 'humidity': 46, 'cloud': 34, 'feelslike_c': 15.8, 'feelslike_f': 60.4, 'windchill_c': 15.8, 'windchill_f': 60.4, 'heatindex_c': 15.8, 'heatindex_f': 60.4, 'dewpoint_c': 4.3, 'dewpoint_f': 39.7, 'will_it_rain': 0, 'chance_of_rain': 0, 'will_it_snow': 0, 'chance_of_snow': 0, 'vis_km': 10.0, 'vis_miles': 6.0, 'gust_mph': 28.0, 'gust_kph': 45.0, 'uv': 5.0}, {'time_epoch': 1669132800, 'time': '2022-11-22 17:00', 'temp_c': 15.9, 'temp_f': 60.6, 'is_day': 1, 'condition': {'text': 'Sunny', 'icon': '//cdn.weatherapi.com/weather/64x64/day/113.png', 'code': 1000}, 'wind_mph': 24.2, 'wind_kph': 38.9, 'wind_degree': 289, 'wind_dir': 'WNW', 'pressure_mb': 1008.0, 'pressure_in': 29.75, 'precip_mm': 0.0, 'precip_in': 0.0, 'humidity': 48, 'cloud': 17, 'feelslike_c': 15.9, 'feelslike_f': 60.6, 'windchill_c': 15.9, 'windchill_f': 60.6, 'heatindex_c': 15.9, 'heatindex_f': 60.6, 'dewpoint_c': 4.9, 'dewpoint_f': 40.8, 'will_it_rain': 0, 'chance_of_rain': 0, 'will_it_snow': 0, 'chance_of_snow': 0, 'vis_km': 10.0, 'vis_miles': 6.0, 'gust_mph': 27.7, 'gust_kph': 44.6, 'uv': 5.0}, {'time_epoch': 1669136400, 'time': '2022-11-22 18:00', 'temp_c': 15.1, 'temp_f': 59.2, 'is_day': 0, 'condition': {'text': 'Partly cloudy', 'icon': '//cdn.weatherapi.com/weather/64x64/night/116.png', 'code': 1003}, 'wind_mph': 23.5, 'wind_kph': 37.8, 'wind_degree': 288, 'wind_dir': 'WNW', 'pressure_mb': 1008.0, 'pressure_in': 29.76, 'precip_mm': 0.0, 'precip_in': 0.0, 'humidity': 50, 'cloud': 42, 'feelslike_c': 15.1, 'feelslike_f': 59.2, 'windchill_c': 15.1, 'windchill_f': 59.2, 'heatindex_c': 15.1, 'heatindex_f': 59.2, 'dewpoint_c': 4.6, 'dewpoint_f': 40.3, 'will_it_rain': 0, 'chance_of_rain': 0, 'will_it_snow': 0, 'chance_of_snow': 0, 'vis_km': 10.0, 'vis_miles': 6.0, 'gust_mph': 27.1, 'gust_kph': 43.6, 'uv': 1.0}, {'time_epoch': 1669140000, 'time': '2022-11-22 19:00', 'temp_c': 15.3, 'temp_f': 59.5, 'is_day': 0, 'condition': {'text': 'Clear', 'icon': '//cdn.weatherapi.com/weather/64x64/night/113.png', 'code': 1000}, 'wind_mph': 22.8, 'wind_kph': 36.7, 'wind_degree': 288, 'wind_dir': 'WNW', 'pressure_mb': 1008.0, 'pressure_in': 29.77, 'precip_mm': 0.0, 'precip_in': 0.0, 'humidity': 51, 'cloud': 23, 'feelslike_c': 15.3, 'feelslike_f': 59.5, 'windchill_c': 15.3, 'windchill_f': 59.5, 'heatindex_c': 15.3, 'heatindex_f': 59.5, 'dewpoint_c': 5.3, 'dewpoint_f': 41.5, 'will_it_rain': 0, 'chance_of_rain': 0, 'will_it_snow': 0, 'chance_of_snow': 0, 'vis_km': 10.0, 'vis_miles': 6.0, 'gust_mph': 26.2, 'gust_kph': 42.1, 'uv': 1.0}, {'time_epoch': 1669143600, 'time': '2022-11-22 20:00', 'temp_c': 13.8, 'temp_f': 56.8, 'is_day': 0, 'condition': {'text': 'Clear', 'icon': '//cdn.weatherapi.com/weather/64x64/night/113.png', 'code': 1000}, 'wind_mph': 21.9, 'wind_kph': 35.3, 'wind_degree': 292, 'wind_dir': 'WNW', 'pressure_mb': 1009.0, 'pressure_in': 29.78, 'precip_mm': 0.0, 'precip_in': 0.0, 'humidity': 54, 'cloud': 3, 'feelslike_c': 11.3, 'feelslike_f': 52.3, 'windchill_c': 11.3, 'windchill_f': 52.3, 'heatindex_c': 13.8, 'heatindex_f': 56.8, 'dewpoint_c': 4.7, 'dewpoint_f': 40.5, 'will_it_rain': 0, 'chance_of_rain': 0, 'will_it_snow': 0, 'chance_of_snow': 0, 'vis_km': 10.0, 'vis_miles': 6.0, 'gust_mph': 26.4, 'gust_kph': 42.5, 'uv': 1.0}, {'time_epoch': 1669147200, 'time': '2022-11-22 21:00', 'temp_c': 13.6, 'temp_f': 56.5, 'is_day': 0, 'condition': {'text': 'Clear', 'icon': '//cdn.weatherapi.com/weather/64x64/night/113.png', 'code': 1000}, 'wind_mph': 20.8, 'wind_kph': 33.5, 'wind_degree': 291, 'wind_dir': 'WNW', 'pressure_mb': 1009.0, 'pressure_in': 29.8, 'precip_mm': 0.0, 'precip_in': 0.0, 'humidity': 59, 'cloud': 7, 'feelslike_c': 11.1, 'feelslike_f': 52.0, 'windchill_c': 11.1, 'windchill_f': 52.0, 'heatindex_c': 13.6, 'heatindex_f': 56.5, 'dewpoint_c': 5.7, 'dewpoint_f': 42.3, 'will_it_rain': 0, 'chance_of_rain': 0, 'will_it_snow': 0, 'chance_of_snow': 0, 'vis_km': 10.0, 'vis_miles': 6.0, 'gust_mph': 24.6, 'gust_kph': 39.6, 'uv': 1.0}, {'time_epoch': 1669150800, 'time': '2022-11-22 22:00', 'temp_c': 13.5, 'temp_f': 56.3, 'is_day': 0, 'condition': {'text': 'Clear', 'icon': '//cdn.weatherapi.com/weather/64x64/night/113.png', 'code': 1000}, 'wind_mph': 16.8, 'wind_kph': 27.0, 'wind_degree': 295, 'wind_dir': 'WNW', 'pressure_mb': 1009.0, 'pressure_in': 29.79, 'precip_mm': 0.0, 'precip_in': 0.0, 'humidity': 60, 'cloud': 18, 'feelslike_c': 11.3, 'feelslike_f': 52.3, 'windchill_c': 11.3, 'windchill_f': 52.3, 'heatindex_c': 13.5, 'heatindex_f': 56.3, 'dewpoint_c': 5.9, 'dewpoint_f': 42.6, 'will_it_rain': 0, 'chance_of_rain': 0, 'will_it_snow': 0, 'chance_of_snow': 0, 'vis_km': 10.0, 'vis_miles': 6.0, 'gust_mph': 19.5, 'gust_kph': 31.3, 'uv': 1.0}, {'time_epoch': 1669154400, 'time': '2022-11-22 23:00', 'temp_c': 13.4, 'temp_f': 56.1, 'is_day': 0, 'condition': {'text': 'Clear', 'icon': '//cdn.weatherapi.com/weather/64x64/night/113.png', 'code': 1000}, 'wind_mph': 15.7, 'wind_kph': 25.2, 'wind_degree': 289, 'wind_dir': 'WNW', 'pressure_mb': 1009.0, 'pressure_in': 29.8, 'precip_mm': 0.0, 'precip_in': 0.0, 'humidity': 59, 'cloud': 22, 'feelslike_c': 11.3, 'feelslike_f': 52.3, 'windchill_c': 11.3, 'windchill_f': 52.3, 'heatindex_c': 13.4, 'heatindex_f': 56.1, 'dewpoint_c': 5.6, 'dewpoint_f': 42.1, 'will_it_rain': 0, 'chance_of_rain': 0, 'will_it_snow': 0, 'chance_of_snow': 0, 'vis_km': 10.0, 'vis_miles': 6.0, 'gust_mph': 18.3, 'gust_kph': 29.5, 'uv': 1.0}]}]}}\n"
     ]
    }
   ],
   "source": [
    "# Instead of the current weather the weather forecast for the next day is used\n",
    "# The average Temperature at the opening hours is calculated to decide if the sauna might have a higher demand due to cold weather\n",
    "\n",
    "import requests\n",
    "\n",
    "url = \"https://weatherapi-com.p.rapidapi.com/forecast.json\"\n",
    "\n",
    "querystring = {\"q\":\"Barcelona\",\"days\":\"1\"}\n",
    "\n",
    "headers = {\n",
    "\t\"X-RapidAPI-Key\": \"6648a2da2cmshf825bca858b5edep1244d2jsna590481eee52\",\n",
    "\t\"X-RapidAPI-Host\": \"weatherapi-com.p.rapidapi.com\"\n",
    "}\n",
    "\n",
    "response = requests.request(\"GET\", url, headers=headers, params=querystring)\n",
    "response = response.json()\n",
    "print(response)"
   ]
  },
  {
   "cell_type": "markdown",
   "metadata": {},
   "source": [
    "You can now go on with the data extraction and post-processing of streaming data as you like"
   ]
  },
  {
   "cell_type": "code",
   "execution_count": 32,
   "metadata": {},
   "outputs": [],
   "source": [
    "Demand_High = False # will the demand for the steam sauna high today?\n",
    "\n",
    "temp_opening_hours = []\n",
    "sum_Temp_opening_hours = 0\n",
    "opening_hour = 6\n",
    "closing_hour = 22\n",
    "\n",
    "for i in range((opening_hour-1),(closing_hour-1)):\n",
    "    temp_hour =  response['forecast']['forecastday'][0]['hour'][i]['temp_c']\n",
    "    sum_Temp_opening_hours = sum_Temp_opening_hours + temp_hour\n",
    "    temp_opening_hours.append(temp_hour)\n",
    "ave_Temp_opening_hours = sum_Temp_opening_hours/(closing_hour-opening_hour)\n",
    "\n",
    "Demand_High = ave_Temp_opening_hours <14\n"
   ]
  },
  {
   "cell_type": "code",
   "execution_count": 60,
   "metadata": {},
   "outputs": [
    {
     "name": "stdout",
     "output_type": "stream",
     "text": [
      "Average Temperature for Opening Hours:  13.812500000000004  °C \n",
      " High Demand expected. You might wanna heat up the sauna more.\n"
     ]
    }
   ],
   "source": [
    "if Demand_High:\n",
    "    print('Average Temperature for Opening Hours: ', ave_Temp_opening_hours, ' °C' , '\\n', 'High Demand expected. You might wanna heat up the sauna more.')\n",
    "else:\n",
    "    print('Average Temperature for Opening Hours: ', ave_Temp_opening_hours, ' °C' , '\\n', 'Normal/Low Demand expected. No action needed.')"
   ]
  },
  {
   "cell_type": "code",
   "execution_count": 35,
   "metadata": {},
   "outputs": [
    {
     "data": {
      "image/png": "[encoded data removed]",
      "text/plain": [
       "<Figure size 1440x720 with 1 Axes>"
      ]
     },
     "metadata": {},
     "output_type": "display_data"
    }
   ],
   "source": [
    "plt.style.use('ggplot')\n",
    "plt.figure(figsize=(20,10))\n",
    "plt.plot(temp_opening_hours, 'r', linewidth=1.5, marker='.')\n",
    "plt.title(f\"Temperatures during opening hours\", fontsize=20)\n",
    "plt.xlabel('Opening Hour (0=6am)', fontsize=20 )\n",
    "plt.ylabel('Temp °C', fontsize=20)\n",
    "plt.show()"
   ]
  },
  {
   "cell_type": "markdown",
   "metadata": {},
   "source": [
    "# Part VII: choose your desired API "
   ]
  },
  {
   "cell_type": "markdown",
   "metadata": {},
   "source": [
    "Connect to the RapidAPI website (https://rapidapi.com/hub) and take a free API of your choice and start experimenting. Have Fun! :)"
   ]
  },
  {
   "cell_type": "code",
   "execution_count": 1,
   "metadata": {},
   "outputs": [],
   "source": [
    "#shows a fun personized Meme\n",
    "\n",
    "import requests\n",
    "\n",
    "url = \"https://ronreiter-meme-generator.p.rapidapi.com/meme\"\n",
    "\n",
    "querystring = {\"top\":\"Us in every\",\"bottom\":\"C&A Lecture\",\"meme\":\"Condescending-Wonka\",\"font_size\":\"80\",\"font\":\"Impact\"}\n",
    "\n",
    "headers = {\n",
    "\t\"X-RapidAPI-Key\": \"6648a2da2cmshf825bca858b5edep1244d2jsna590481eee52\",\n",
    "\t\"X-RapidAPI-Host\": \"ronreiter-meme-generator.p.rapidapi.com\"\n",
    "}\n",
    "\n",
    "response = requests.request(\"GET\", url, headers=headers, params=querystring)\n",
    "\n",
    "print(response.text)"
   ]
  },
  {
   "cell_type": "code",
   "execution_count": 23,
   "metadata": {},
   "outputs": [],
   "source": [
    "# Reviewing the competition and their ratings\n",
    "\n",
    "import requests\n",
    "\n",
    "url = \"https://local-business-data.p.rapidapi.com/search\"\n",
    "\n",
    "payload = {\n",
    "\t\"queries\": [\"Sauna in Barcelona\"],\n",
    "\t\"limit\": 5,\n",
    "\t\"region\": \"ES\",\n",
    "\t\"language\": \"en\"\n",
    "}\n",
    "headers = {\n",
    "\t\"content-type\": \"application/json\",\n",
    "\t\"X-RapidAPI-Key\": \"6648a2da2cmshf825bca858b5edep1244d2jsna590481eee52\",\n",
    "\t\"X-RapidAPI-Host\": \"local-business-data.p.rapidapi.com\"\n",
    "}\n",
    "\n",
    "response = requests.request(\"POST\", url, json=payload, headers=headers)\n",
    "response = response.json()\n"
   ]
  },
  {
   "cell_type": "code",
   "execution_count": 26,
   "metadata": {},
   "outputs": [
    {
     "name": "stdout",
     "output_type": "stream",
     "text": [
      "[4.1, 4.4, 3.4, 3.2, 3.6]\n"
     ]
    }
   ],
   "source": [
    "comp_name = [];\n",
    "comp_rating = [];\n",
    "\n",
    "for i in range(len(response['data'])):\n",
    "    comp_name.append(response['data'][i]['name'])\n",
    "    comp_rating.append(response['data'][i]['rating'])\n",
    "print(comp_rating)"
   ]
  },
  {
   "cell_type": "code",
   "execution_count": 28,
   "metadata": {},
   "outputs": [
    {
     "data": {
      "image/png": "[encoded data removed]",
      "text/plain": [
       "<Figure size 432x288 with 1 Axes>"
      ]
     },
     "metadata": {},
     "output_type": "display_data"
    }
   ],
   "source": [
    "import matplotlib.pyplot as plt\n",
    "\n",
    "fig = plt.figure()\n",
    "ax = fig.add_axes([0,0,1,1])\n",
    "ax.bar(comp_name,comp_rating)\n",
    "plt.show()"
   ]
  }
 ],
 "metadata": {
  "kernelspec": {
   "display_name": "Python 3 (ipykernel)",
   "language": "python",
   "name": "python3"
  },
  "language_info": {
   "codemirror_mode": {
    "name": "ipython",
    "version": 3
   },
   "file_extension": ".py",
   "mimetype": "text/x-python",
   "name": "python",
   "nbconvert_exporter": "python",
   "pygments_lexer": "ipython3",
   "version": "3.9.12"
  }
 },
 "nbformat": 4,
 "nbformat_minor": 2
}
